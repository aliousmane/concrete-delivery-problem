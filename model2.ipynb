{
 "metadata": {
  "language_info": {
   "codemirror_mode": {
    "name": "ipython",
    "version": 3
   },
   "file_extension": ".py",
   "mimetype": "text/x-python",
   "name": "python",
   "nbconvert_exporter": "python",
   "pygments_lexer": "ipython3",
   "version": 3
  },
  "orig_nbformat": 2
 },
 "nbformat": 4,
 "nbformat_minor": 2,
 "cells": [
  {
   "source": [
    "$ min  \\sum_{(ij) \\in E} c_{ij}x_{ij} +  \\sum_{i \\in I}\\sum_{j \\in J}2c_{ij}y_{ij} + \\frac{F}{2}\\sum_{i \\in I}\\sum_{j \\in J}({x_{ij} + 2y_{ij}}) + \\sum_{i \\in I}O_iz_i      $\n",
    "\t"
   ],
   "cell_type": "markdown",
   "metadata": {}
  },
  {
   "source": [
    " 2$y{(\\lbrace{j}\\rbrace:I)} + x(\\delta(j)) = 2 $     $j \\in J $"
   ],
   "cell_type": "markdown",
   "metadata": {}
  },
  {
   "source": [
    "$  x(\\gamma(S))  \\leq |S| - \\left\\lceil{\\max_{ \\tilde{d} \\in \\mathcal{Q}}\\sum_{j \\in S}\\tilde{d_j}/Q} \\right\\rceil$     $S \\subseteq J $"
   ],
   "cell_type": "markdown",
   "metadata": {}
  },
  {
   "source": [
    "$x(S:J\\backslash S) + x(S:I\\backslash \\lbrace {i}\\rbrace) \\geq 2: \\max_{ \\tilde{d} \\in \\mathcal{Q}}\\sum_{j \\in S}\\tilde{d_j} > W_i  $ $S \\subseteq J,  i \\in I    $"
   ],
   "cell_type": "markdown",
   "metadata": {}
  },
  {
   "source": [
    "$  x_{ij} + y_{ij} \\leq z_i$  $ i \\in I,  j \\in J     $"
   ],
   "cell_type": "markdown",
   "metadata": {}
  },
  {
   "source": [
    "$x(\\gamma(S \\cup \\lbrace{i,j}\\rbrace))  +x(\\lbrace j \\rbrace \\hspace{-1mm} : I') +  x( \\lbrace l \\rbrace \\hspace{-1mm} :I\\backslash I') \\leq |S| +  2$  $  i,j \\in J, S \\subseteq J\\backslash \\lbrace l,j \\rbrace,  I' \\subset I $ "
   ],
   "cell_type": "markdown",
   "metadata": {}
  },
  {
   "source": [
    "$x(\\{j\\}):I) + y( j ) \\leq 1 $ $j \\in J $"
   ],
   "cell_type": "markdown",
   "metadata": {}
  },
  {
   "source": [
    "\n",
    "% \t%\n",
    "\t \\\\\n",
    "% \t%\n",
    "\t\n",
    "% \t%\n",
    "\t\\label{rlrp_7}   &  x_{ij} \\in \\{0,1\\} & (i,j)  \\in E &  \\\\\n",
    "\t\\label{rlrp_8}   &  y_{ij} \\in \\{0,1\\}  & i \\in I, j \\in J &    \\\\\n",
    "\t\\label{r_lrpend}   &  z_{i} \\in \\{0,1\\} &  i  \\in I. &\n"
   ],
   "cell_type": "code",
   "metadata": {},
   "execution_count": null,
   "outputs": []
  }
 ]
}