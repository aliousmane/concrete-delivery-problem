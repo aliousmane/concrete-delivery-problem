{
 "cells": [
  {
   "cell_type": "code",
   "execution_count": 1,
   "metadata": {},
   "outputs": [],
   "source": [
    "import pandas as pd\n",
    "import numpy as np"
   ]
  },
  {
   "cell_type": "code",
   "execution_count": 111,
   "metadata": {},
   "outputs": [],
   "source": [
    "df_kinableA = pd.read_csv(\"kinableA.csv\", sep=\";\", header=0)\n",
    "df_kinableB = pd.read_csv(\"kinableB.csv\", sep=\";\", header=0)"
   ]
  },
  {
   "cell_type": "code",
   "execution_count": 114,
   "metadata": {},
   "outputs": [],
   "source": [
    "df = pd.read_csv(\"test_B.csv\",sep=';',header=0)"
   ]
  },
  {
   "cell_type": "code",
   "execution_count": 117,
   "metadata": {},
   "outputs": [
    {
     "data": {
      "text/html": [
       "<div>\n",
       "<style scoped>\n",
       "    .dataframe tbody tr th:only-of-type {\n",
       "        vertical-align: middle;\n",
       "    }\n",
       "\n",
       "    .dataframe tbody tr th {\n",
       "        vertical-align: top;\n",
       "    }\n",
       "\n",
       "    .dataframe thead th {\n",
       "        text-align: right;\n",
       "    }\n",
       "</style>\n",
       "<table border=\"1\" class=\"dataframe\">\n",
       "  <thead>\n",
       "    <tr style=\"text-align: right;\">\n",
       "      <th></th>\n",
       "      <th>Name</th>\n",
       "      <th>UB</th>\n",
       "      <th>CP</th>\n",
       "      <th>Gap</th>\n",
       "      <th>CP_Time</th>\n",
       "      <th>Heuristic</th>\n",
       "      <th>Gap.1</th>\n",
       "      <th>Heuristic_Time</th>\n",
       "      <th>grasp</th>\n",
       "      <th>runtime</th>\n",
       "      <th>Gap_grasp</th>\n",
       "      <th>instance</th>\n",
       "    </tr>\n",
       "  </thead>\n",
       "  <tbody>\n",
       "    <tr>\n",
       "      <th>128</th>\n",
       "      <td>NaN</td>\n",
       "      <td>1384.375</td>\n",
       "      <td>1182.421875</td>\n",
       "      <td>12.069531</td>\n",
       "      <td>987.229961</td>\n",
       "      <td>1116.445312</td>\n",
       "      <td>16.327344</td>\n",
       "      <td>1331.179688</td>\n",
       "      <td>1158.789062</td>\n",
       "      <td>574983.529297</td>\n",
       "      <td>13.743619</td>\n",
       "      <td>B</td>\n",
       "    </tr>\n",
       "    <tr>\n",
       "      <th>129</th>\n",
       "      <td>opt</td>\n",
       "      <td>0.000</td>\n",
       "      <td>0.000000</td>\n",
       "      <td>55.000000</td>\n",
       "      <td>0.000000</td>\n",
       "      <td>0.000000</td>\n",
       "      <td>40.000000</td>\n",
       "      <td>0.000000</td>\n",
       "      <td>0.000000</td>\n",
       "      <td>0.000000</td>\n",
       "      <td>44.000000</td>\n",
       "      <td>0</td>\n",
       "    </tr>\n",
       "  </tbody>\n",
       "</table>\n",
       "</div>"
      ],
      "text/plain": [
       "    Name        UB           CP        Gap     CP_Time    Heuristic  \\\n",
       "128  NaN  1384.375  1182.421875  12.069531  987.229961  1116.445312   \n",
       "129  opt     0.000     0.000000  55.000000    0.000000     0.000000   \n",
       "\n",
       "         Gap.1  Heuristic_Time        grasp        runtime  Gap_grasp instance  \n",
       "128  16.327344     1331.179688  1158.789062  574983.529297  13.743619        B  \n",
       "129  40.000000        0.000000     0.000000       0.000000  44.000000        0  "
      ]
     },
     "execution_count": 117,
     "metadata": {},
     "output_type": "execute_result"
    }
   ],
   "source": [
    "resA = df.groupby(['Name']).agg({'grasp':'max','runtime':'mean'})\n",
    "resA.reset_index(inplace=True)\n",
    "tableA = pd.merge(left=df_kinableB,right=resA,how='inner')\n",
    "tableA['Gap_grasp'] = tableA.apply(lambda x: 100*(x.UB-x.grasp)/x.UB,axis=1) \n",
    "tableA[\"instance\"] = tableA['Name'].apply(lambda x: x[0])\n",
    "# tableA.loc[len(tableA.index)] =  tableA.groupby(by='instance').mean().reset_index(inplace=True).loc[0]\n",
    "tableA\n",
    "# tableA.groupby(by='instance').sum()\n",
    "t=tableA.groupby(by='instance').mean(numeric_only=True)\n",
    "t.reset_index(inplace=True)\n",
    "tableA.loc[len(tableA.index)] =  t.loc[0,]\n",
    "t= list(tableA.apply(lambda x: np.sum(x==0)))\n",
    "t[0] = 'opt'\n",
    "tableA.loc[len(tableA.index)] = t\n",
    "# tableA.loc[[len(tableA.index)-2,len(tableA.index)-1]].to_csv('tableA.csv')\n",
    "tableA.loc[[len(tableA.index)-2,len(tableA.index)-1]]\n",
    "# tableA\n"
   ]
  },
  {
   "cell_type": "code",
   "execution_count": null,
   "metadata": {},
   "outputs": [],
   "source": []
  },
  {
   "cell_type": "markdown",
   "metadata": {},
   "source": []
  },
  {
   "cell_type": "code",
   "execution_count": null,
   "metadata": {},
   "outputs": [],
   "source": []
  },
  {
   "cell_type": "code",
   "execution_count": null,
   "metadata": {},
   "outputs": [],
   "source": []
  },
  {
   "cell_type": "code",
   "execution_count": null,
   "metadata": {},
   "outputs": [],
   "source": []
  },
  {
   "cell_type": "code",
   "execution_count": null,
   "metadata": {},
   "outputs": [],
   "source": []
  },
  {
   "cell_type": "code",
   "execution_count": 21,
   "metadata": {},
   "outputs": [
    {
     "ename": "AttributeError",
     "evalue": "'NoneType' object has no attribute 'reset_index'",
     "output_type": "error",
     "traceback": [
      "\u001b[0;31m---------------------------------------------------------------------------\u001b[0m",
      "\u001b[0;31mAttributeError\u001b[0m                            Traceback (most recent call last)",
      "Cell \u001b[0;32mIn[21], line 1\u001b[0m\n\u001b[0;32m----> 1\u001b[0m resA\u001b[39m=\u001b[39mresA\u001b[39m.\u001b[39;49mreset_index(inplace\u001b[39m=\u001b[39m\u001b[39mTrue\u001b[39;00m)\n\u001b[1;32m      2\u001b[0m tableA \u001b[39m=\u001b[39m pd\u001b[39m.\u001b[39mmerge(left\u001b[39m=\u001b[39mdf_kinableA,right\u001b[39m=\u001b[39mresA,how\u001b[39m=\u001b[39m\u001b[39m'\u001b[39m\u001b[39minner\u001b[39m\u001b[39m'\u001b[39m)\n\u001b[1;32m      3\u001b[0m tableA\n",
      "\u001b[0;31mAttributeError\u001b[0m: 'NoneType' object has no attribute 'reset_index'"
     ]
    }
   ],
   "source": []
  }
 ],
 "metadata": {
  "kernelspec": {
   "display_name": "base",
   "language": "python",
   "name": "python3"
  },
  "language_info": {
   "codemirror_mode": {
    "name": "ipython",
    "version": 3
   },
   "file_extension": ".py",
   "mimetype": "text/x-python",
   "name": "python",
   "nbconvert_exporter": "python",
   "pygments_lexer": "ipython3",
   "version": "3.10.9"
  },
  "orig_nbformat": 4
 },
 "nbformat": 4,
 "nbformat_minor": 2
}
