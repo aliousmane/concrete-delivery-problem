{
 "metadata": {
  "language_info": {
   "codemirror_mode": {
    "name": "ipython",
    "version": 3
   },
   "file_extension": ".py",
   "mimetype": "text/x-python",
   "name": "python",
   "nbconvert_exporter": "python",
   "pygments_lexer": "ipython3",
   "version": "3.8.3"
  },
  "orig_nbformat": 2,
  "kernelspec": {
   "name": "python383jvsc74a57bd0b3ba2566441a7c06988d0923437866b63cedc61552a5af99d1f4fb67d367b25f",
   "display_name": "Python 3.8.3 64-bit ('base': conda)"
  }
 },
 "nbformat": 4,
 "nbformat_minor": 2,
 "cells": [
  {
   "cell_type": "code",
   "execution_count": null,
   "metadata": {},
   "outputs": [],
   "source": [
    "- The concrete trucks start their trip at their assigned depot and travel between depot and customers.\n",
    "- At the end of the day, the trucks return to their starting depot"
   ]
  },
  {
   "source": [
    "- $ \\forall$ customer $i \\in C$ , $C^i = \\{1,...,n(i)\\} $, $n(i)= \\lceil {\\frac{q_i}{\\min_{k \\in K}\\{q_k\\}}} \\rceil$\n",
    "- Time window $[a_u, b_u ] = [a_i,b_i]$ $i \\in C, u \\in C^i$\n",
    "- $D = \\cup_{i\\in C}C^i $"
   ],
   "cell_type": "markdown",
   "metadata": {}
  },
  {
   "source": [
    "- I is the set of depots\n",
    "- directed, weighted graph G(V,A) $V = I \\cup D  $"
   ],
   "cell_type": "markdown",
   "metadata": {}
  },
  {
   "source": [
    "- delivery node $c^i_h$  has a directed edge to a delivery node $c^i_j$ if $ h < j, i \\in C, h,j \\in C_i$."
   ],
   "cell_type": "markdown",
   "metadata": {}
  },
  {
   "source": [
    "- directed edge from $c^i_u$ to $c^j_v, i \\neq j$, except if $c^j_v$ needs to be scheduled earlier than $c^i_u$"
   ],
   "cell_type": "markdown",
   "metadata": {}
  },
  {
   "cell_type": "code",
   "execution_count": null,
   "metadata": {},
   "outputs": [],
   "source": [
    "- Parameters:\n",
    "    - $u_d$: Time required to unload delivery $d$ \n",
    "    - $l_d$: Time required to load delivery $d$\n",
    "    - $\\gamma$: Maximum time lag between consecutive deliveries."
   ]
  },
  {
   "cell_type": "code",
   "execution_count": null,
   "metadata": {},
   "outputs": [],
   "source": [
    "  \n",
    "- Variables:\n",
    "    - $x_{ijk}$ is a binary variable indicating whether vehicle k travels from i to j\n",
    "    - $c^{i}$ records the time that delivery $i \\in D$ is completed.\n",
    "    - $y_i$ denotes whether customer $i$ is serviced.\n",
    "    "
   ]
  },
  {
   "source": [
    "  - Determine the shape of a feasible tour: a tour starts at the source depot, visits a number of pickup and delivery points and finally returns to the sink depot.\n",
    "- $ \\sum_{j \\in \\delta^{+}(0)}x_{0jk} = \\sum_{i \\in \\delta^{-}(n+1)}x_{i,n+1,k} = 1 ,k \\in K$\n",
    "- $ \\sum_{j \\in \\delta^{+}(i)}x_{ijk} = \\sum_{j \\in \\delta^{-}(i)}x_{j,i,k}$, $i \\in C, k \\in K$\n"
   ],
   "cell_type": "markdown",
   "metadata": {}
  },
  {
   "source": [
    "- $S(i,\\alpha)$ = $\\sum_{k \\in K} \\sum_{j \\in \\delta^{+}(i)} \\alpha x_{ijk} $, $i \\in D$\n",
    "- Number of times a delivery can be made\n",
    "    - $S(i,1) \\leq 1$, $\\forall i \\in D$    \n",
    "- Ordering of deliveries\n",
    "    - $S(j+1,1) \\leq S(j,1)$ ,$ \\forall i \\in C, j \\in \\{1,...,n(i)-1\\}$\n",
    "- Sum of capacities of the vehicles performing the deliveries for customer $i \\in C$ should cover the customer's demand\n",
    "     - $\\sum_{j \\in C^i} S(j,q_k) \\geq q_i y_i$, $i \\in C$"
   ],
   "cell_type": "markdown",
   "metadata": {}
  },
  {
   "source": [
    "- $  c^i - M(1- x_{ijk}) \\leq c^j - l_i - u_l c_{ij} $, $i \\notin I$\n",
    "- $  c^i - M(1- x_{ijk}) \\leq c^j - c_{ij} $, $\\forall (0,j) \\in A$\n",
    "- $  c^i - S(i,p_k) \\geq a_i $"
   ],
   "cell_type": "markdown",
   "metadata": {}
  },
  {
   "cell_type": "code",
   "execution_count": null,
   "metadata": {},
   "outputs": [],
   "source": [
    "### Second ILP\n",
    "- Arc costs:\n",
    "    - $c_{0,c^i_j} = \\min_{p \\in P} t_{0,p} + t_{p,i}, \\forall c^i_j \\in D.$\n",
    "    - $c_{c^i{u},c^j{v}} = \\min_{p \\in P} t_{i,p} + t_{p,j}, \\forall c^i{u},c^j{v} \\in D, c^i{u} \\neq c^j{v}$\n",
    "    - $c_{c^i{j},n+1} =  t_{i,n+1}$\n",
    "    - $c_{0,n+1} = 0.$\n",
    "\n",
    "\n",
    "\n",
    "\n",
    "  \n",
    "- Model\n",
    "    - $max \\sum_{i \\in C} q_iy_i$\n",
    "  \n",
    "       \n",
    "    \n",
    "    -  Enforce a maximum time lag between consecutive deliveries\n",
    "        - $  c^{j+1} - S(j+1,p_k) - c^j \\leq \\gamma $, $i \\in C, $j \\in \\{1,...,n(i)-1\\}$\n",
    "    -  Enforce that deliveries do not overlap in time:\n",
    "        - $  c^{j+1} \\geq c^j + S(j,p_k) , $i \\in C, $j \\in \\{1,...,n(i)-1\\}$\n",
    "   \n",
    "    - $a_i + p_k \\leq C^{i}_k \\leq b_i$, $i \\in V$\n",
    "\n",
    "    \n",
    "    - $x_{ijk} \\in \\{0,1\\}$ $C^{i}_k \\in Z$, $y_i \\in \\{0,1\\}$"
   ]
  }
 ]
}