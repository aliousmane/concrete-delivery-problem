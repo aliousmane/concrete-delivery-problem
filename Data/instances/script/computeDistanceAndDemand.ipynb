{
 "cells": [
  {
   "cell_type": "markdown",
   "id": "bb37a140",
   "metadata": {},
   "source": [
    "### Dataframes"
   ]
  },
  {
   "cell_type": "code",
   "execution_count": 2,
   "id": "3d92cebf",
   "metadata": {},
   "outputs": [],
   "source": [
    "from collections import Counter\n",
    "import pandas as pd\n",
    "import os\n",
    "import datetime"
   ]
  },
  {
   "cell_type": "code",
   "execution_count": 3,
   "id": "c620fd9c",
   "metadata": {},
   "outputs": [],
   "source": [
    "df_tickets = pd.read_excel(f\"DTICKETHISTAB_BETON.xlsx\",engine='openpyxl')"
   ]
  },
  {
   "cell_type": "code",
   "execution_count": 3,
   "id": "7eb5373d",
   "metadata": {},
   "outputs": [],
   "source": [
    "df_orders = pd.read_excel(f\"DORDERSTAB_BETON.xlsx\",sheet_name='data',engine='openpyxl')"
   ]
  },
  {
   "cell_type": "markdown",
   "id": "ddaa6044",
   "metadata": {},
   "source": [
    "### Matrice de temps"
   ]
  },
  {
   "cell_type": "code",
   "execution_count": 4,
   "id": "ec35b295",
   "metadata": {},
   "outputs": [],
   "source": [
    "df_temps = pd.read_csv(f\"Matrice_de_temps_all.csv\",header=None)"
   ]
  },
  {
   "cell_type": "code",
   "execution_count": 5,
   "id": "69a47516",
   "metadata": {},
   "outputs": [],
   "source": [
    "temps = df_temps.to_numpy()"
   ]
  },
  {
   "cell_type": "code",
   "execution_count": 6,
   "id": "d07c9296",
   "metadata": {},
   "outputs": [],
   "source": [
    "df_dist = pd.read_csv(f\"Matrice_de_distance_all.csv\",header=None)\n",
    "dist = df_dist.to_numpy()"
   ]
  },
  {
   "cell_type": "markdown",
   "id": "45118dfd",
   "metadata": {},
   "source": [
    "### Localisation des dépots"
   ]
  },
  {
   "cell_type": "code",
   "execution_count": 7,
   "id": "2d130f13",
   "metadata": {},
   "outputs": [],
   "source": [
    "df_depots = pd.read_excel(f\"adresses_complete.xlsx\",engine='openpyxl')\n",
    "df_depots = df_depots[df_depots['Location_type'] != 'customer']\n",
    "df_depots.dropna(axis=1,  inplace=True)\n",
    "df_depots['NBR'] = df_depots['JOB_DESC'].apply(\n",
    "    lambda x: x if len(x.split(' ')) == 1 else int(x.split(' ')[1]))\n",
    "df_depots.set_index('NBR',inplace=True)\n",
    "df_depots.drop(['Location_type', 'JOB_DESC', 'MAP_PAGE', \n",
    "       'Postal_code', 'JOBSTATE', 'LATITUDE_Y', 'LONGITUDE_X'],axis=1,inplace=True)"
   ]
  },
  {
   "cell_type": "code",
   "execution_count": 8,
   "id": "d267af21",
   "metadata": {},
   "outputs": [],
   "source": [
    "def beginTime(week,day,driver):\n",
    "    week_op = df_tickets[df_tickets['WEEK']==week]\n",
    "    day_op = week_op[week_op['DATE']==day]\n",
    "    _data = day_op[day_op['DRIVER_NBR']==driver][[\"BEGIN_LOAD\",\"ARRIVE_PLANT\"]]\n",
    "    _data.sort_values([\"BEGIN_LOAD\"],inplace=True)\n",
    "   \n",
    "    return f\"{_data.iloc[0,0].time()}\".split('.')[0]\n",
    "\n",
    "def endTime(week,day,driver):\n",
    "    week_op = df_tickets[df_tickets['WEEK']==week]\n",
    "    day_op = week_op[week_op['DATE']==day]\n",
    "    _data = day_op[day_op['DRIVER_NBR']==driver][[\"BEGIN_LOAD\",\"ARRIVE_PLANT\"]]\n",
    "    _data.sort_values([\"BEGIN_LOAD\"],inplace=True)\n",
    "    return f\"{_data.iloc[-1,1].time()}\".split('.')[0]"
   ]
  },
  {
   "cell_type": "code",
   "execution_count": 49,
   "id": "755aefcb",
   "metadata": {},
   "outputs": [],
   "source": [
    "df_tickets.dropna(axis=0,inplace=True)\n",
    "df_tickets['CUST'] = df_tickets['ORDER_ID'].apply(lambda x: df_orders[df_orders['ORDER_ID']==x]['CUST_NBR'].max())\n",
    "df_tickets['JOB_DESC'] = df_tickets['ORDER_ID'].apply(lambda x: df_orders[df_orders['ORDER_ID']==x]['JOB_DESC'].max())\n",
    "    \n",
    "df_tickets['TDATE'] = df_tickets['TICKET_DATE'].apply(lambda x:datetime.date(x.year,x.month,x.day))\n",
    "df_tickets['WEEK'] = df_tickets['TDATE'].apply(lambda x:datetime.date(x.year,x.month,x.day).isocalendar()[1])\n",
    "df_tickets['DAY'] = df_tickets['TDATE'].apply(lambda x:datetime.date(x.year,x.month,x.day).toordinal())\n",
    "\n",
    "df_tickets = df_tickets[df_tickets['SHIP_LOC']!=99]\n",
    "df_tickets = df_tickets[df_tickets['JOB_DESC'] != 'PICKUP']\n",
    "\n",
    "df_tickets.drop(['DTICKETHIS_TICKET_ID',  'TICKET_NBR', 'TICKET_DATE',\n",
    "       'TICKET_TIME',   'BEGIN_POUR', 'FINISH_POUR',   'FINISH_LOAD',\n",
    "       'TO_PLANT', 'ON_JOB', 'TO_JOB', 'LOAD', 'LOADNR',\n",
    "       'DTICKETPRODUCTHIS_TICKET_ID',   'CATEGORY_CODE'],axis=1,inplace=True)\n"
   ]
  },
  {
   "cell_type": "code",
   "execution_count": 56,
   "id": "8aaf4fdc",
   "metadata": {},
   "outputs": [],
   "source": [
    "df_orders = df_orders[df_orders['JOB_DESC']!='PICKUP']\n",
    "df_orders['DATE'] = df_orders['SHIPDATE'].apply(lambda x:datetime.date(x.year,x.month,x.day))"
   ]
  },
  {
   "cell_type": "code",
   "execution_count": 57,
   "id": "96cc4c70",
   "metadata": {},
   "outputs": [],
   "source": [
    "df_tickets['DATE'] = df_tickets.apply(lambda x:  df_orders[df_orders['ORDER_ID']==x.ORDER_ID]['DATE'].min(),axis=1)"
   ]
  },
  {
   "cell_type": "code",
   "execution_count": 59,
   "id": "e38699b6",
   "metadata": {},
   "outputs": [],
   "source": [
    "df_orders.drop(['COMP_NBR',  'ORDER_STATUS',\n",
    "       'ORDER_DATE', 'ORDER_TIME (min)', 'SHIPDATE', 'Day_of_the_week',\n",
    "       'SHIPTIME (min)', 'ZONE_NBR', 'WORK_TYPE', 'SCHED_LOC',\n",
    "       'JOB_DESC', 'ORDER_DESC', 'MAP_PAGE', 'JOBCITY', 'Postal code ',\n",
    "       'JOBSTATE', 'LATITUDE_Y', 'LONGITUDE_X', 'TRAVEL_MINUTES',\n",
    "       'UNLOAD_MINUTES', 'QTY_PER_HOUR', 'TRUCK_REQUEST',\n",
    "       'CATEGORY_CODE', 'UNIT_OF_MEASURE', 'QUANTITY', 'LOOKUP_DESC',\n",
    "       'CONFIG_DESC', 'Unnamed: 33', 'Unnamed: 34', 'Location ',\n",
    "       'ID','DATE'],axis=1,inplace=True)"
   ]
  },
  {
   "cell_type": "code",
   "execution_count": 60,
   "id": "6b14bc64",
   "metadata": {},
   "outputs": [
    {
     "data": {
      "text/html": [
       "<div>\n",
       "<style scoped>\n",
       "    .dataframe tbody tr th:only-of-type {\n",
       "        vertical-align: middle;\n",
       "    }\n",
       "\n",
       "    .dataframe tbody tr th {\n",
       "        vertical-align: top;\n",
       "    }\n",
       "\n",
       "    .dataframe thead th {\n",
       "        text-align: right;\n",
       "    }\n",
       "</style>\n",
       "<table border=\"1\" class=\"dataframe\">\n",
       "  <thead>\n",
       "    <tr style=\"text-align: right;\">\n",
       "      <th></th>\n",
       "      <th>SHIP_LOC</th>\n",
       "      <th>ORDER_ID</th>\n",
       "      <th>DRIVER_NBR</th>\n",
       "      <th>BEGIN_LOAD</th>\n",
       "      <th>ARRIVE_PLANT</th>\n",
       "      <th>TRUCK_NBR</th>\n",
       "      <th>SCHED_LOC</th>\n",
       "      <th>PROD_NBR</th>\n",
       "      <th>QUANTITY</th>\n",
       "      <th>DATE</th>\n",
       "      <th>CUST</th>\n",
       "      <th>JOB_DESC</th>\n",
       "      <th>TDATE</th>\n",
       "      <th>WEEK</th>\n",
       "      <th>DAY</th>\n",
       "      <th>ORDER_LOC</th>\n",
       "      <th>ORDER_NBR</th>\n",
       "      <th>CUST_NBR</th>\n",
       "      <th>LOCATION ID</th>\n",
       "    </tr>\n",
       "  </thead>\n",
       "  <tbody>\n",
       "    <tr>\n",
       "      <th>0</th>\n",
       "      <td>54</td>\n",
       "      <td>917231</td>\n",
       "      <td>15083.0</td>\n",
       "      <td>2020-10-01 14:16:23.720</td>\n",
       "      <td>2020-10-01 16:34:16.832</td>\n",
       "      <td>460</td>\n",
       "      <td>54</td>\n",
       "      <td>3510RPC1</td>\n",
       "      <td>8.0</td>\n",
       "      <td>2020-10-01</td>\n",
       "      <td>104590</td>\n",
       "      <td>261 RUE QUEEN (ET KING)</td>\n",
       "      <td>2020-10-01</td>\n",
       "      <td>40</td>\n",
       "      <td>737699</td>\n",
       "      <td>0</td>\n",
       "      <td>603592</td>\n",
       "      <td>104590</td>\n",
       "      <td>0</td>\n",
       "    </tr>\n",
       "    <tr>\n",
       "      <th>1</th>\n",
       "      <td>54</td>\n",
       "      <td>917231</td>\n",
       "      <td>15143.0</td>\n",
       "      <td>2020-10-01 15:00:56.091</td>\n",
       "      <td>2020-10-01 16:34:14.566</td>\n",
       "      <td>370</td>\n",
       "      <td>54</td>\n",
       "      <td>3510RPC1</td>\n",
       "      <td>8.0</td>\n",
       "      <td>2020-10-01</td>\n",
       "      <td>104590</td>\n",
       "      <td>261 RUE QUEEN (ET KING)</td>\n",
       "      <td>2020-10-01</td>\n",
       "      <td>40</td>\n",
       "      <td>737699</td>\n",
       "      <td>0</td>\n",
       "      <td>603592</td>\n",
       "      <td>104590</td>\n",
       "      <td>0</td>\n",
       "    </tr>\n",
       "    <tr>\n",
       "      <th>2</th>\n",
       "      <td>54</td>\n",
       "      <td>917231</td>\n",
       "      <td>15070.0</td>\n",
       "      <td>2020-10-01 15:20:11.886</td>\n",
       "      <td>2020-10-01 17:10:50.250</td>\n",
       "      <td>426</td>\n",
       "      <td>54</td>\n",
       "      <td>3510RPC1</td>\n",
       "      <td>8.0</td>\n",
       "      <td>2020-10-01</td>\n",
       "      <td>104590</td>\n",
       "      <td>261 RUE QUEEN (ET KING)</td>\n",
       "      <td>2020-10-01</td>\n",
       "      <td>40</td>\n",
       "      <td>737699</td>\n",
       "      <td>0</td>\n",
       "      <td>603592</td>\n",
       "      <td>104590</td>\n",
       "      <td>0</td>\n",
       "    </tr>\n",
       "    <tr>\n",
       "      <th>3</th>\n",
       "      <td>54</td>\n",
       "      <td>917231</td>\n",
       "      <td>15507.0</td>\n",
       "      <td>2020-10-01 15:59:26.468</td>\n",
       "      <td>2020-10-01 18:21:08.017</td>\n",
       "      <td>384</td>\n",
       "      <td>54</td>\n",
       "      <td>3510RPC1</td>\n",
       "      <td>8.0</td>\n",
       "      <td>2020-10-01</td>\n",
       "      <td>104590</td>\n",
       "      <td>261 RUE QUEEN (ET KING)</td>\n",
       "      <td>2020-10-01</td>\n",
       "      <td>40</td>\n",
       "      <td>737699</td>\n",
       "      <td>0</td>\n",
       "      <td>603592</td>\n",
       "      <td>104590</td>\n",
       "      <td>0</td>\n",
       "    </tr>\n",
       "    <tr>\n",
       "      <th>4</th>\n",
       "      <td>54</td>\n",
       "      <td>917231</td>\n",
       "      <td>7000059.0</td>\n",
       "      <td>2020-10-01 16:15:50.000</td>\n",
       "      <td>2020-10-01 18:35:24.000</td>\n",
       "      <td>019</td>\n",
       "      <td>54</td>\n",
       "      <td>3510RPC1</td>\n",
       "      <td>7.0</td>\n",
       "      <td>2020-10-01</td>\n",
       "      <td>104590</td>\n",
       "      <td>261 RUE QUEEN (ET KING)</td>\n",
       "      <td>2020-10-01</td>\n",
       "      <td>40</td>\n",
       "      <td>737699</td>\n",
       "      <td>0</td>\n",
       "      <td>603592</td>\n",
       "      <td>104590</td>\n",
       "      <td>0</td>\n",
       "    </tr>\n",
       "  </tbody>\n",
       "</table>\n",
       "</div>"
      ],
      "text/plain": [
       "   SHIP_LOC  ORDER_ID  DRIVER_NBR              BEGIN_LOAD  \\\n",
       "0        54    917231     15083.0 2020-10-01 14:16:23.720   \n",
       "1        54    917231     15143.0 2020-10-01 15:00:56.091   \n",
       "2        54    917231     15070.0 2020-10-01 15:20:11.886   \n",
       "3        54    917231     15507.0 2020-10-01 15:59:26.468   \n",
       "4        54    917231   7000059.0 2020-10-01 16:15:50.000   \n",
       "\n",
       "             ARRIVE_PLANT TRUCK_NBR  SCHED_LOC  PROD_NBR  QUANTITY  \\\n",
       "0 2020-10-01 16:34:16.832       460         54  3510RPC1       8.0   \n",
       "1 2020-10-01 16:34:14.566       370         54  3510RPC1       8.0   \n",
       "2 2020-10-01 17:10:50.250       426         54  3510RPC1       8.0   \n",
       "3 2020-10-01 18:21:08.017       384         54  3510RPC1       8.0   \n",
       "4 2020-10-01 18:35:24.000       019         54  3510RPC1       7.0   \n",
       "\n",
       "         DATE    CUST                 JOB_DESC       TDATE  WEEK     DAY  \\\n",
       "0  2020-10-01  104590  261 RUE QUEEN (ET KING)  2020-10-01    40  737699   \n",
       "1  2020-10-01  104590  261 RUE QUEEN (ET KING)  2020-10-01    40  737699   \n",
       "2  2020-10-01  104590  261 RUE QUEEN (ET KING)  2020-10-01    40  737699   \n",
       "3  2020-10-01  104590  261 RUE QUEEN (ET KING)  2020-10-01    40  737699   \n",
       "4  2020-10-01  104590  261 RUE QUEEN (ET KING)  2020-10-01    40  737699   \n",
       "\n",
       "   ORDER_LOC  ORDER_NBR CUST_NBR  LOCATION ID  \n",
       "0          0     603592   104590            0  \n",
       "1          0     603592   104590            0  \n",
       "2          0     603592   104590            0  \n",
       "3          0     603592   104590            0  \n",
       "4          0     603592   104590            0  "
      ]
     },
     "execution_count": 60,
     "metadata": {},
     "output_type": "execute_result"
    }
   ],
   "source": [
    "# df_tickets.reset_index()\n",
    "df=pd.merge(left=df_tickets,right= df_orders,how=\"inner\",on=['ORDER_ID','PROD_NBR'])\n",
    "df.head()"
   ]
  },
  {
   "cell_type": "code",
   "execution_count": 61,
   "id": "2f270947",
   "metadata": {},
   "outputs": [],
   "source": [
    "df['SHIP_LOC_ID'] = df.apply(lambda x: df_depots.loc[x.SHIP_LOC]['Location ID'],axis=1)"
   ]
  },
  {
   "cell_type": "code",
   "execution_count": 62,
   "id": "31002ac0",
   "metadata": {},
   "outputs": [],
   "source": [
    "df['SCHED_LOC_ID'] = df.apply(lambda x: df_depots.loc[x.SCHED_LOC]['Location ID'],axis=1)"
   ]
  },
  {
   "cell_type": "code",
   "execution_count": 63,
   "id": "ebc2e5c2",
   "metadata": {},
   "outputs": [],
   "source": [
    "df['t1']=df.apply(lambda x: (temps[x.SHIP_LOC_ID][x['LOCATION ID']]+temps[x['LOCATION ID']][x.SHIP_LOC_ID])/60,axis=1)"
   ]
  },
  {
   "cell_type": "code",
   "execution_count": 64,
   "id": "67f40158",
   "metadata": {},
   "outputs": [],
   "source": [
    "df['t2']=df.apply(lambda x: (temps[x.SCHED_LOC_ID][x['LOCATION ID']]+temps[x['LOCATION ID']][x.SCHED_LOC_ID])/60,axis=1)"
   ]
  },
  {
   "cell_type": "code",
   "execution_count": 65,
   "id": "d6ed1ccc",
   "metadata": {},
   "outputs": [],
   "source": [
    "df['d1']=df.apply(lambda x: (dist[x.SHIP_LOC_ID][x['LOCATION ID']]+dist[x['LOCATION ID']][x.SHIP_LOC_ID]),axis=1)"
   ]
  },
  {
   "cell_type": "code",
   "execution_count": 66,
   "id": "9a4cbd56",
   "metadata": {},
   "outputs": [],
   "source": [
    "df['d2']=df.apply(lambda x: (dist[x.SCHED_LOC_ID][x['LOCATION ID']]+dist[x['LOCATION ID']][x.SCHED_LOC_ID]),axis=1)"
   ]
  },
  {
   "cell_type": "code",
   "execution_count": 73,
   "id": "67bf271d",
   "metadata": {},
   "outputs": [],
   "source": [
    "df.reset_index(inplace=True)\n",
    "df.set_index(['DATE'],inplace=True)\n",
    "df.sort_index(inplace=True)\n",
    "df.groupby(by=['DATE']).agg({'QUANTITY':'sum','t1':'sum','t2':'sum' \n",
    "    ,'d1':'sum','d2':'sum','DRIVER_NBR':'nunique','TRUCK_NBR':'nunique'}).to_csv('stat_by_day.csv',\n",
    "                                                                        sep=';',decimal=',')"
   ]
  }
 ],
 "metadata": {
  "kernelspec": {
   "display_name": "Python 3 (ipykernel)",
   "language": "python",
   "name": "python3"
  },
  "language_info": {
   "codemirror_mode": {
    "name": "ipython",
    "version": 3
   },
   "file_extension": ".py",
   "mimetype": "text/x-python",
   "name": "python",
   "nbconvert_exporter": "python",
   "pygments_lexer": "ipython3",
   "version": "3.10.9"
  }
 },
 "nbformat": 4,
 "nbformat_minor": 5
}
