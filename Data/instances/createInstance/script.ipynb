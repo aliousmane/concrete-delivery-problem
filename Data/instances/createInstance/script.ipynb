{
 "cells": [
  {
   "cell_type": "code",
   "execution_count": 96,
   "id": "90a16d2e",
   "metadata": {},
   "outputs": [],
   "source": [
    "import pandas as pd\n",
    "import os\n",
    "from driver import Driver\n",
    "import datetime\n",
    "from collections import Counter\n",
    "import matplotlib.pyplot as plt\n",
    "import seaborn as sns\n",
    "from instances import Instance\n",
    "# from create_instance import create_instance_CQ\n",
    "# from create_instance import  create_all_instances_CQ\n",
    "from create_instance import *"
   ]
  },
  {
   "cell_type": "code",
   "execution_count": 97,
   "id": "c71f14e5",
   "metadata": {},
   "outputs": [],
   "source": [
    "myInstance = Instance()"
   ]
  },
  {
   "cell_type": "code",
   "execution_count": 98,
   "id": "1f8916ef",
   "metadata": {},
   "outputs": [],
   "source": [
    "myInstance.init_order()"
   ]
  },
  {
   "cell_type": "code",
   "execution_count": 99,
   "id": "0fb5d47b",
   "metadata": {},
   "outputs": [],
   "source": [
    "myInstance.init_depot()"
   ]
  },
  {
   "cell_type": "code",
   "execution_count": 100,
   "id": "088cb7a7",
   "metadata": {},
   "outputs": [],
   "source": [
    "myInstance.init_tickets()"
   ]
  },
  {
   "cell_type": "code",
   "execution_count": 101,
   "id": "e641b04c",
   "metadata": {},
   "outputs": [],
   "source": [
    "myInstance.init_employee()"
   ]
  },
  {
   "cell_type": "code",
   "execution_count": 102,
   "id": "ca306f89",
   "metadata": {},
   "outputs": [],
   "source": [
    "myInstance.init_depot_loc()"
   ]
  },
  {
   "cell_type": "code",
   "execution_count": 103,
   "id": "31e37b54",
   "metadata": {},
   "outputs": [
    {
     "name": "stdout",
     "output_type": "stream",
     "text": [
      "Clean Depot\n"
     ]
    }
   ],
   "source": [
    "myInstance.clean_depot()"
   ]
  },
  {
   "cell_type": "code",
   "execution_count": 104,
   "id": "e5fed38d",
   "metadata": {},
   "outputs": [
    {
     "name": "stdout",
     "output_type": "stream",
     "text": [
      "Clean employee\n"
     ]
    }
   ],
   "source": [
    "myInstance.clean_employee()"
   ]
  },
  {
   "cell_type": "code",
   "execution_count": 105,
   "id": "d671daa2",
   "metadata": {},
   "outputs": [],
   "source": [
    "myInstance.clean_tickets()"
   ]
  },
  {
   "cell_type": "code",
   "execution_count": 197,
   "id": "e1d68d8b",
   "metadata": {},
   "outputs": [
    {
     "name": "stdout",
     "output_type": "stream",
     "text": [
      "Create all CQ instances\n",
      "Instance 2020-10-01\n",
      "3174.0\n"
     ]
    },
    {
     "name": "stderr",
     "output_type": "stream",
     "text": [
      "/Users/aliwa/Documents/Ulaval/thesis/works/cimentQuebec/Data/instances/createInstance/create_instance.py:22: UserWarning: Boolean Series key will be reindexed to match DataFrame index.\n",
      "  list_ordres = list(set( Object.df_orders[Object.df_orders['DATE']==jour]['ORDER_ID']))\n",
      "/Users/aliwa/Documents/Ulaval/thesis/works/cimentQuebec/Data/instances/createInstance/create_instance.py:32: UserWarning: Boolean Series key will be reindexed to match DataFrame index.\n",
      "  cur =  tickets[tickets['PROD_NBR'].isin(delivered_prod)][tickets['ORDER_ID']==ord]\n",
      "/Users/aliwa/Documents/Ulaval/thesis/works/cimentQuebec/Data/instances/createInstance/create_instance.py:134: UserWarning: Boolean Series key will be reindexed to match DataFrame index.\n",
      "  ticket_ordres = tickets[tickets['PROD_NBR'].isin(delivered_prod)][tickets['ORDER_ID'].isin([ord])]\n"
     ]
    },
    {
     "name": "stdout",
     "output_type": "stream",
     "text": [
      "Client Demand  3174.0\n",
      "order_demand  3174.0\n",
      "Instance 2020-10-02\n",
      "2893.5\n"
     ]
    },
    {
     "name": "stderr",
     "output_type": "stream",
     "text": [
      "/Users/aliwa/Documents/Ulaval/thesis/works/cimentQuebec/Data/instances/createInstance/create_instance.py:22: UserWarning: Boolean Series key will be reindexed to match DataFrame index.\n",
      "  list_ordres = list(set( Object.df_orders[Object.df_orders['DATE']==jour]['ORDER_ID']))\n",
      "/Users/aliwa/Documents/Ulaval/thesis/works/cimentQuebec/Data/instances/createInstance/create_instance.py:32: UserWarning: Boolean Series key will be reindexed to match DataFrame index.\n",
      "  cur =  tickets[tickets['PROD_NBR'].isin(delivered_prod)][tickets['ORDER_ID']==ord]\n",
      "/Users/aliwa/Documents/Ulaval/thesis/works/cimentQuebec/Data/instances/createInstance/create_instance.py:134: UserWarning: Boolean Series key will be reindexed to match DataFrame index.\n",
      "  ticket_ordres = tickets[tickets['PROD_NBR'].isin(delivered_prod)][tickets['ORDER_ID'].isin([ord])]\n"
     ]
    },
    {
     "name": "stdout",
     "output_type": "stream",
     "text": [
      "Client Demand  2893.5\n",
      "order_demand  2893.5\n",
      "Instance 2020-10-03\n",
      "613.5\n",
      "Client Demand  613.5\n",
      "order_demand  613.5\n",
      "Instance 2020-10-05\n",
      "3200.0\n"
     ]
    },
    {
     "name": "stderr",
     "output_type": "stream",
     "text": [
      "/Users/aliwa/Documents/Ulaval/thesis/works/cimentQuebec/Data/instances/createInstance/create_instance.py:22: UserWarning: Boolean Series key will be reindexed to match DataFrame index.\n",
      "  list_ordres = list(set( Object.df_orders[Object.df_orders['DATE']==jour]['ORDER_ID']))\n",
      "/Users/aliwa/Documents/Ulaval/thesis/works/cimentQuebec/Data/instances/createInstance/create_instance.py:32: UserWarning: Boolean Series key will be reindexed to match DataFrame index.\n",
      "  cur =  tickets[tickets['PROD_NBR'].isin(delivered_prod)][tickets['ORDER_ID']==ord]\n",
      "/Users/aliwa/Documents/Ulaval/thesis/works/cimentQuebec/Data/instances/createInstance/create_instance.py:134: UserWarning: Boolean Series key will be reindexed to match DataFrame index.\n",
      "  ticket_ordres = tickets[tickets['PROD_NBR'].isin(delivered_prod)][tickets['ORDER_ID'].isin([ord])]\n",
      "/Users/aliwa/Documents/Ulaval/thesis/works/cimentQuebec/Data/instances/createInstance/create_instance.py:22: UserWarning: Boolean Series key will be reindexed to match DataFrame index.\n",
      "  list_ordres = list(set( Object.df_orders[Object.df_orders['DATE']==jour]['ORDER_ID']))\n",
      "/Users/aliwa/Documents/Ulaval/thesis/works/cimentQuebec/Data/instances/createInstance/create_instance.py:32: UserWarning: Boolean Series key will be reindexed to match DataFrame index.\n",
      "  cur =  tickets[tickets['PROD_NBR'].isin(delivered_prod)][tickets['ORDER_ID']==ord]\n",
      "/Users/aliwa/Documents/Ulaval/thesis/works/cimentQuebec/Data/instances/createInstance/create_instance.py:134: UserWarning: Boolean Series key will be reindexed to match DataFrame index.\n",
      "  ticket_ordres = tickets[tickets['PROD_NBR'].isin(delivered_prod)][tickets['ORDER_ID'].isin([ord])]\n"
     ]
    },
    {
     "name": "stdout",
     "output_type": "stream",
     "text": [
      "Client Demand  3200.0\n",
      "order_demand  3200.0\n",
      "Instance 2020-10-06\n",
      "3739.5\n"
     ]
    },
    {
     "name": "stderr",
     "output_type": "stream",
     "text": [
      "/Users/aliwa/Documents/Ulaval/thesis/works/cimentQuebec/Data/instances/createInstance/create_instance.py:22: UserWarning: Boolean Series key will be reindexed to match DataFrame index.\n",
      "  list_ordres = list(set( Object.df_orders[Object.df_orders['DATE']==jour]['ORDER_ID']))\n",
      "/Users/aliwa/Documents/Ulaval/thesis/works/cimentQuebec/Data/instances/createInstance/create_instance.py:32: UserWarning: Boolean Series key will be reindexed to match DataFrame index.\n",
      "  cur =  tickets[tickets['PROD_NBR'].isin(delivered_prod)][tickets['ORDER_ID']==ord]\n",
      "/Users/aliwa/Documents/Ulaval/thesis/works/cimentQuebec/Data/instances/createInstance/create_instance.py:134: UserWarning: Boolean Series key will be reindexed to match DataFrame index.\n",
      "  ticket_ordres = tickets[tickets['PROD_NBR'].isin(delivered_prod)][tickets['ORDER_ID'].isin([ord])]\n"
     ]
    },
    {
     "name": "stdout",
     "output_type": "stream",
     "text": [
      "Client Demand  3739.5\n",
      "order_demand  3739.5\n",
      "Instance 2020-10-07\n",
      "2512.5\n"
     ]
    },
    {
     "name": "stderr",
     "output_type": "stream",
     "text": [
      "/Users/aliwa/Documents/Ulaval/thesis/works/cimentQuebec/Data/instances/createInstance/create_instance.py:22: UserWarning: Boolean Series key will be reindexed to match DataFrame index.\n",
      "  list_ordres = list(set( Object.df_orders[Object.df_orders['DATE']==jour]['ORDER_ID']))\n",
      "/Users/aliwa/Documents/Ulaval/thesis/works/cimentQuebec/Data/instances/createInstance/create_instance.py:32: UserWarning: Boolean Series key will be reindexed to match DataFrame index.\n",
      "  cur =  tickets[tickets['PROD_NBR'].isin(delivered_prod)][tickets['ORDER_ID']==ord]\n",
      "/Users/aliwa/Documents/Ulaval/thesis/works/cimentQuebec/Data/instances/createInstance/create_instance.py:134: UserWarning: Boolean Series key will be reindexed to match DataFrame index.\n",
      "  ticket_ordres = tickets[tickets['PROD_NBR'].isin(delivered_prod)][tickets['ORDER_ID'].isin([ord])]\n"
     ]
    },
    {
     "name": "stdout",
     "output_type": "stream",
     "text": [
      "Client Demand  2512.5\n",
      "order_demand  2512.5\n",
      "Instance 2020-10-08\n",
      "4302.5\n"
     ]
    },
    {
     "name": "stderr",
     "output_type": "stream",
     "text": [
      "/Users/aliwa/Documents/Ulaval/thesis/works/cimentQuebec/Data/instances/createInstance/create_instance.py:22: UserWarning: Boolean Series key will be reindexed to match DataFrame index.\n",
      "  list_ordres = list(set( Object.df_orders[Object.df_orders['DATE']==jour]['ORDER_ID']))\n",
      "/Users/aliwa/Documents/Ulaval/thesis/works/cimentQuebec/Data/instances/createInstance/create_instance.py:32: UserWarning: Boolean Series key will be reindexed to match DataFrame index.\n",
      "  cur =  tickets[tickets['PROD_NBR'].isin(delivered_prod)][tickets['ORDER_ID']==ord]\n",
      "/Users/aliwa/Documents/Ulaval/thesis/works/cimentQuebec/Data/instances/createInstance/create_instance.py:134: UserWarning: Boolean Series key will be reindexed to match DataFrame index.\n",
      "  ticket_ordres = tickets[tickets['PROD_NBR'].isin(delivered_prod)][tickets['ORDER_ID'].isin([ord])]\n"
     ]
    },
    {
     "name": "stdout",
     "output_type": "stream",
     "text": [
      "Client Demand  4302.5\n",
      "order_demand  4302.5\n",
      "Instance 2020-10-09\n",
      "3229.0\n"
     ]
    },
    {
     "name": "stderr",
     "output_type": "stream",
     "text": [
      "/Users/aliwa/Documents/Ulaval/thesis/works/cimentQuebec/Data/instances/createInstance/create_instance.py:22: UserWarning: Boolean Series key will be reindexed to match DataFrame index.\n",
      "  list_ordres = list(set( Object.df_orders[Object.df_orders['DATE']==jour]['ORDER_ID']))\n",
      "/Users/aliwa/Documents/Ulaval/thesis/works/cimentQuebec/Data/instances/createInstance/create_instance.py:32: UserWarning: Boolean Series key will be reindexed to match DataFrame index.\n",
      "  cur =  tickets[tickets['PROD_NBR'].isin(delivered_prod)][tickets['ORDER_ID']==ord]\n",
      "/Users/aliwa/Documents/Ulaval/thesis/works/cimentQuebec/Data/instances/createInstance/create_instance.py:134: UserWarning: Boolean Series key will be reindexed to match DataFrame index.\n",
      "  ticket_ordres = tickets[tickets['PROD_NBR'].isin(delivered_prod)][tickets['ORDER_ID'].isin([ord])]\n"
     ]
    },
    {
     "name": "stdout",
     "output_type": "stream",
     "text": [
      "Client Demand  3229.0\n",
      "order_demand  3229.0\n",
      "Instance 2020-10-10\n",
      "267.0\n",
      "Client Demand  267.0\n",
      "order_demand  267.0\n",
      "Instance 2020-10-13\n",
      "1565.0\n"
     ]
    },
    {
     "name": "stderr",
     "output_type": "stream",
     "text": [
      "/Users/aliwa/Documents/Ulaval/thesis/works/cimentQuebec/Data/instances/createInstance/create_instance.py:22: UserWarning: Boolean Series key will be reindexed to match DataFrame index.\n",
      "  list_ordres = list(set( Object.df_orders[Object.df_orders['DATE']==jour]['ORDER_ID']))\n",
      "/Users/aliwa/Documents/Ulaval/thesis/works/cimentQuebec/Data/instances/createInstance/create_instance.py:32: UserWarning: Boolean Series key will be reindexed to match DataFrame index.\n",
      "  cur =  tickets[tickets['PROD_NBR'].isin(delivered_prod)][tickets['ORDER_ID']==ord]\n",
      "/Users/aliwa/Documents/Ulaval/thesis/works/cimentQuebec/Data/instances/createInstance/create_instance.py:134: UserWarning: Boolean Series key will be reindexed to match DataFrame index.\n",
      "  ticket_ordres = tickets[tickets['PROD_NBR'].isin(delivered_prod)][tickets['ORDER_ID'].isin([ord])]\n",
      "/Users/aliwa/Documents/Ulaval/thesis/works/cimentQuebec/Data/instances/createInstance/create_instance.py:22: UserWarning: Boolean Series key will be reindexed to match DataFrame index.\n",
      "  list_ordres = list(set( Object.df_orders[Object.df_orders['DATE']==jour]['ORDER_ID']))\n",
      "/Users/aliwa/Documents/Ulaval/thesis/works/cimentQuebec/Data/instances/createInstance/create_instance.py:32: UserWarning: Boolean Series key will be reindexed to match DataFrame index.\n",
      "  cur =  tickets[tickets['PROD_NBR'].isin(delivered_prod)][tickets['ORDER_ID']==ord]\n",
      "/Users/aliwa/Documents/Ulaval/thesis/works/cimentQuebec/Data/instances/createInstance/create_instance.py:134: UserWarning: Boolean Series key will be reindexed to match DataFrame index.\n",
      "  ticket_ordres = tickets[tickets['PROD_NBR'].isin(delivered_prod)][tickets['ORDER_ID'].isin([ord])]\n"
     ]
    },
    {
     "name": "stdout",
     "output_type": "stream",
     "text": [
      "Client Demand  1565.0\n",
      "order_demand  1565.0\n",
      "Instance 2020-10-14\n",
      "3471.0\n"
     ]
    },
    {
     "name": "stderr",
     "output_type": "stream",
     "text": [
      "/Users/aliwa/Documents/Ulaval/thesis/works/cimentQuebec/Data/instances/createInstance/create_instance.py:22: UserWarning: Boolean Series key will be reindexed to match DataFrame index.\n",
      "  list_ordres = list(set( Object.df_orders[Object.df_orders['DATE']==jour]['ORDER_ID']))\n",
      "/Users/aliwa/Documents/Ulaval/thesis/works/cimentQuebec/Data/instances/createInstance/create_instance.py:32: UserWarning: Boolean Series key will be reindexed to match DataFrame index.\n",
      "  cur =  tickets[tickets['PROD_NBR'].isin(delivered_prod)][tickets['ORDER_ID']==ord]\n",
      "/Users/aliwa/Documents/Ulaval/thesis/works/cimentQuebec/Data/instances/createInstance/create_instance.py:134: UserWarning: Boolean Series key will be reindexed to match DataFrame index.\n",
      "  ticket_ordres = tickets[tickets['PROD_NBR'].isin(delivered_prod)][tickets['ORDER_ID'].isin([ord])]\n"
     ]
    },
    {
     "name": "stdout",
     "output_type": "stream",
     "text": [
      "Client Demand  3471.0\n",
      "order_demand  3471.0\n",
      "Instance 2020-10-15\n",
      "4181.0\n"
     ]
    },
    {
     "name": "stderr",
     "output_type": "stream",
     "text": [
      "/Users/aliwa/Documents/Ulaval/thesis/works/cimentQuebec/Data/instances/createInstance/create_instance.py:22: UserWarning: Boolean Series key will be reindexed to match DataFrame index.\n",
      "  list_ordres = list(set( Object.df_orders[Object.df_orders['DATE']==jour]['ORDER_ID']))\n",
      "/Users/aliwa/Documents/Ulaval/thesis/works/cimentQuebec/Data/instances/createInstance/create_instance.py:32: UserWarning: Boolean Series key will be reindexed to match DataFrame index.\n",
      "  cur =  tickets[tickets['PROD_NBR'].isin(delivered_prod)][tickets['ORDER_ID']==ord]\n",
      "/Users/aliwa/Documents/Ulaval/thesis/works/cimentQuebec/Data/instances/createInstance/create_instance.py:134: UserWarning: Boolean Series key will be reindexed to match DataFrame index.\n",
      "  ticket_ordres = tickets[tickets['PROD_NBR'].isin(delivered_prod)][tickets['ORDER_ID'].isin([ord])]\n"
     ]
    },
    {
     "name": "stdout",
     "output_type": "stream",
     "text": [
      "Client Demand  4181.0\n",
      "order_demand  4181.0\n",
      "Instance 2020-10-16\n",
      "2060.0\n"
     ]
    },
    {
     "name": "stderr",
     "output_type": "stream",
     "text": [
      "/Users/aliwa/Documents/Ulaval/thesis/works/cimentQuebec/Data/instances/createInstance/create_instance.py:22: UserWarning: Boolean Series key will be reindexed to match DataFrame index.\n",
      "  list_ordres = list(set( Object.df_orders[Object.df_orders['DATE']==jour]['ORDER_ID']))\n",
      "/Users/aliwa/Documents/Ulaval/thesis/works/cimentQuebec/Data/instances/createInstance/create_instance.py:32: UserWarning: Boolean Series key will be reindexed to match DataFrame index.\n",
      "  cur =  tickets[tickets['PROD_NBR'].isin(delivered_prod)][tickets['ORDER_ID']==ord]\n",
      "/Users/aliwa/Documents/Ulaval/thesis/works/cimentQuebec/Data/instances/createInstance/create_instance.py:134: UserWarning: Boolean Series key will be reindexed to match DataFrame index.\n",
      "  ticket_ordres = tickets[tickets['PROD_NBR'].isin(delivered_prod)][tickets['ORDER_ID'].isin([ord])]\n"
     ]
    },
    {
     "name": "stdout",
     "output_type": "stream",
     "text": [
      "Client Demand  2060.0\n",
      "order_demand  2060.0\n",
      "Instance 2020-10-17\n",
      "819.0\n",
      "Client Demand  819.0\n",
      "order_demand  819.0\n",
      "Instance 2020-10-19\n",
      "3009.5\n"
     ]
    },
    {
     "name": "stderr",
     "output_type": "stream",
     "text": [
      "/Users/aliwa/Documents/Ulaval/thesis/works/cimentQuebec/Data/instances/createInstance/create_instance.py:22: UserWarning: Boolean Series key will be reindexed to match DataFrame index.\n",
      "  list_ordres = list(set( Object.df_orders[Object.df_orders['DATE']==jour]['ORDER_ID']))\n",
      "/Users/aliwa/Documents/Ulaval/thesis/works/cimentQuebec/Data/instances/createInstance/create_instance.py:32: UserWarning: Boolean Series key will be reindexed to match DataFrame index.\n",
      "  cur =  tickets[tickets['PROD_NBR'].isin(delivered_prod)][tickets['ORDER_ID']==ord]\n",
      "/Users/aliwa/Documents/Ulaval/thesis/works/cimentQuebec/Data/instances/createInstance/create_instance.py:134: UserWarning: Boolean Series key will be reindexed to match DataFrame index.\n",
      "  ticket_ordres = tickets[tickets['PROD_NBR'].isin(delivered_prod)][tickets['ORDER_ID'].isin([ord])]\n",
      "/Users/aliwa/Documents/Ulaval/thesis/works/cimentQuebec/Data/instances/createInstance/create_instance.py:22: UserWarning: Boolean Series key will be reindexed to match DataFrame index.\n",
      "  list_ordres = list(set( Object.df_orders[Object.df_orders['DATE']==jour]['ORDER_ID']))\n",
      "/Users/aliwa/Documents/Ulaval/thesis/works/cimentQuebec/Data/instances/createInstance/create_instance.py:32: UserWarning: Boolean Series key will be reindexed to match DataFrame index.\n",
      "  cur =  tickets[tickets['PROD_NBR'].isin(delivered_prod)][tickets['ORDER_ID']==ord]\n",
      "/Users/aliwa/Documents/Ulaval/thesis/works/cimentQuebec/Data/instances/createInstance/create_instance.py:134: UserWarning: Boolean Series key will be reindexed to match DataFrame index.\n",
      "  ticket_ordres = tickets[tickets['PROD_NBR'].isin(delivered_prod)][tickets['ORDER_ID'].isin([ord])]\n"
     ]
    },
    {
     "name": "stdout",
     "output_type": "stream",
     "text": [
      "Client Demand  3009.5\n",
      "order_demand  3009.5\n",
      "Instance 2020-10-20\n",
      "2673.0\n"
     ]
    },
    {
     "name": "stderr",
     "output_type": "stream",
     "text": [
      "/Users/aliwa/Documents/Ulaval/thesis/works/cimentQuebec/Data/instances/createInstance/create_instance.py:22: UserWarning: Boolean Series key will be reindexed to match DataFrame index.\n",
      "  list_ordres = list(set( Object.df_orders[Object.df_orders['DATE']==jour]['ORDER_ID']))\n",
      "/Users/aliwa/Documents/Ulaval/thesis/works/cimentQuebec/Data/instances/createInstance/create_instance.py:32: UserWarning: Boolean Series key will be reindexed to match DataFrame index.\n",
      "  cur =  tickets[tickets['PROD_NBR'].isin(delivered_prod)][tickets['ORDER_ID']==ord]\n",
      "/Users/aliwa/Documents/Ulaval/thesis/works/cimentQuebec/Data/instances/createInstance/create_instance.py:134: UserWarning: Boolean Series key will be reindexed to match DataFrame index.\n",
      "  ticket_ordres = tickets[tickets['PROD_NBR'].isin(delivered_prod)][tickets['ORDER_ID'].isin([ord])]\n"
     ]
    },
    {
     "name": "stdout",
     "output_type": "stream",
     "text": [
      "Client Demand  2673.0\n",
      "order_demand  2673.0\n",
      "Instance 2020-10-21\n",
      "1160.5\n",
      "Client Demand  1160.5\n"
     ]
    },
    {
     "name": "stderr",
     "output_type": "stream",
     "text": [
      "/Users/aliwa/Documents/Ulaval/thesis/works/cimentQuebec/Data/instances/createInstance/create_instance.py:22: UserWarning: Boolean Series key will be reindexed to match DataFrame index.\n",
      "  list_ordres = list(set( Object.df_orders[Object.df_orders['DATE']==jour]['ORDER_ID']))\n",
      "/Users/aliwa/Documents/Ulaval/thesis/works/cimentQuebec/Data/instances/createInstance/create_instance.py:32: UserWarning: Boolean Series key will be reindexed to match DataFrame index.\n",
      "  cur =  tickets[tickets['PROD_NBR'].isin(delivered_prod)][tickets['ORDER_ID']==ord]\n",
      "/Users/aliwa/Documents/Ulaval/thesis/works/cimentQuebec/Data/instances/createInstance/create_instance.py:134: UserWarning: Boolean Series key will be reindexed to match DataFrame index.\n",
      "  ticket_ordres = tickets[tickets['PROD_NBR'].isin(delivered_prod)][tickets['ORDER_ID'].isin([ord])]\n"
     ]
    },
    {
     "name": "stdout",
     "output_type": "stream",
     "text": [
      "order_demand  1160.5\n",
      "Instance 2020-10-22\n",
      "3437.0\n"
     ]
    },
    {
     "name": "stderr",
     "output_type": "stream",
     "text": [
      "/Users/aliwa/Documents/Ulaval/thesis/works/cimentQuebec/Data/instances/createInstance/create_instance.py:22: UserWarning: Boolean Series key will be reindexed to match DataFrame index.\n",
      "  list_ordres = list(set( Object.df_orders[Object.df_orders['DATE']==jour]['ORDER_ID']))\n",
      "/Users/aliwa/Documents/Ulaval/thesis/works/cimentQuebec/Data/instances/createInstance/create_instance.py:32: UserWarning: Boolean Series key will be reindexed to match DataFrame index.\n",
      "  cur =  tickets[tickets['PROD_NBR'].isin(delivered_prod)][tickets['ORDER_ID']==ord]\n",
      "/Users/aliwa/Documents/Ulaval/thesis/works/cimentQuebec/Data/instances/createInstance/create_instance.py:134: UserWarning: Boolean Series key will be reindexed to match DataFrame index.\n",
      "  ticket_ordres = tickets[tickets['PROD_NBR'].isin(delivered_prod)][tickets['ORDER_ID'].isin([ord])]\n"
     ]
    },
    {
     "name": "stdout",
     "output_type": "stream",
     "text": [
      "Client Demand  3437.0\n",
      "order_demand  3437.0\n",
      "Instance 2020-10-23\n",
      "3818.0\n"
     ]
    },
    {
     "name": "stderr",
     "output_type": "stream",
     "text": [
      "/Users/aliwa/Documents/Ulaval/thesis/works/cimentQuebec/Data/instances/createInstance/create_instance.py:22: UserWarning: Boolean Series key will be reindexed to match DataFrame index.\n",
      "  list_ordres = list(set( Object.df_orders[Object.df_orders['DATE']==jour]['ORDER_ID']))\n",
      "/Users/aliwa/Documents/Ulaval/thesis/works/cimentQuebec/Data/instances/createInstance/create_instance.py:32: UserWarning: Boolean Series key will be reindexed to match DataFrame index.\n",
      "  cur =  tickets[tickets['PROD_NBR'].isin(delivered_prod)][tickets['ORDER_ID']==ord]\n",
      "/Users/aliwa/Documents/Ulaval/thesis/works/cimentQuebec/Data/instances/createInstance/create_instance.py:134: UserWarning: Boolean Series key will be reindexed to match DataFrame index.\n",
      "  ticket_ordres = tickets[tickets['PROD_NBR'].isin(delivered_prod)][tickets['ORDER_ID'].isin([ord])]\n"
     ]
    },
    {
     "name": "stdout",
     "output_type": "stream",
     "text": [
      "Client Demand  3818.0\n",
      "order_demand  3818.0\n",
      "Instance 2020-10-24\n",
      "937.5\n",
      "Client Demand  937.5\n",
      "order_demand  937.5\n",
      "Instance 2020-10-26\n",
      "1839.5\n"
     ]
    },
    {
     "name": "stderr",
     "output_type": "stream",
     "text": [
      "/Users/aliwa/Documents/Ulaval/thesis/works/cimentQuebec/Data/instances/createInstance/create_instance.py:22: UserWarning: Boolean Series key will be reindexed to match DataFrame index.\n",
      "  list_ordres = list(set( Object.df_orders[Object.df_orders['DATE']==jour]['ORDER_ID']))\n",
      "/Users/aliwa/Documents/Ulaval/thesis/works/cimentQuebec/Data/instances/createInstance/create_instance.py:32: UserWarning: Boolean Series key will be reindexed to match DataFrame index.\n",
      "  cur =  tickets[tickets['PROD_NBR'].isin(delivered_prod)][tickets['ORDER_ID']==ord]\n",
      "/Users/aliwa/Documents/Ulaval/thesis/works/cimentQuebec/Data/instances/createInstance/create_instance.py:134: UserWarning: Boolean Series key will be reindexed to match DataFrame index.\n",
      "  ticket_ordres = tickets[tickets['PROD_NBR'].isin(delivered_prod)][tickets['ORDER_ID'].isin([ord])]\n",
      "/Users/aliwa/Documents/Ulaval/thesis/works/cimentQuebec/Data/instances/createInstance/create_instance.py:22: UserWarning: Boolean Series key will be reindexed to match DataFrame index.\n",
      "  list_ordres = list(set( Object.df_orders[Object.df_orders['DATE']==jour]['ORDER_ID']))\n",
      "/Users/aliwa/Documents/Ulaval/thesis/works/cimentQuebec/Data/instances/createInstance/create_instance.py:32: UserWarning: Boolean Series key will be reindexed to match DataFrame index.\n",
      "  cur =  tickets[tickets['PROD_NBR'].isin(delivered_prod)][tickets['ORDER_ID']==ord]\n",
      "/Users/aliwa/Documents/Ulaval/thesis/works/cimentQuebec/Data/instances/createInstance/create_instance.py:134: UserWarning: Boolean Series key will be reindexed to match DataFrame index.\n",
      "  ticket_ordres = tickets[tickets['PROD_NBR'].isin(delivered_prod)][tickets['ORDER_ID'].isin([ord])]\n"
     ]
    },
    {
     "name": "stdout",
     "output_type": "stream",
     "text": [
      "Client Demand  1839.5\n",
      "order_demand  1839.5\n",
      "Instance 2020-10-27\n",
      "3597.0\n"
     ]
    },
    {
     "name": "stderr",
     "output_type": "stream",
     "text": [
      "/Users/aliwa/Documents/Ulaval/thesis/works/cimentQuebec/Data/instances/createInstance/create_instance.py:22: UserWarning: Boolean Series key will be reindexed to match DataFrame index.\n",
      "  list_ordres = list(set( Object.df_orders[Object.df_orders['DATE']==jour]['ORDER_ID']))\n",
      "/Users/aliwa/Documents/Ulaval/thesis/works/cimentQuebec/Data/instances/createInstance/create_instance.py:32: UserWarning: Boolean Series key will be reindexed to match DataFrame index.\n",
      "  cur =  tickets[tickets['PROD_NBR'].isin(delivered_prod)][tickets['ORDER_ID']==ord]\n",
      "/Users/aliwa/Documents/Ulaval/thesis/works/cimentQuebec/Data/instances/createInstance/create_instance.py:134: UserWarning: Boolean Series key will be reindexed to match DataFrame index.\n",
      "  ticket_ordres = tickets[tickets['PROD_NBR'].isin(delivered_prod)][tickets['ORDER_ID'].isin([ord])]\n"
     ]
    },
    {
     "name": "stdout",
     "output_type": "stream",
     "text": [
      "Client Demand  3597.0\n",
      "order_demand  3597.0\n",
      "Instance 2020-10-28\n",
      "3092.5\n"
     ]
    },
    {
     "name": "stderr",
     "output_type": "stream",
     "text": [
      "/Users/aliwa/Documents/Ulaval/thesis/works/cimentQuebec/Data/instances/createInstance/create_instance.py:22: UserWarning: Boolean Series key will be reindexed to match DataFrame index.\n",
      "  list_ordres = list(set( Object.df_orders[Object.df_orders['DATE']==jour]['ORDER_ID']))\n",
      "/Users/aliwa/Documents/Ulaval/thesis/works/cimentQuebec/Data/instances/createInstance/create_instance.py:32: UserWarning: Boolean Series key will be reindexed to match DataFrame index.\n",
      "  cur =  tickets[tickets['PROD_NBR'].isin(delivered_prod)][tickets['ORDER_ID']==ord]\n",
      "/Users/aliwa/Documents/Ulaval/thesis/works/cimentQuebec/Data/instances/createInstance/create_instance.py:134: UserWarning: Boolean Series key will be reindexed to match DataFrame index.\n",
      "  ticket_ordres = tickets[tickets['PROD_NBR'].isin(delivered_prod)][tickets['ORDER_ID'].isin([ord])]\n"
     ]
    },
    {
     "name": "stdout",
     "output_type": "stream",
     "text": [
      "Client Demand  3092.5\n",
      "order_demand  3092.5\n",
      "Instance 2020-10-29\n",
      "3946.5\n"
     ]
    },
    {
     "name": "stderr",
     "output_type": "stream",
     "text": [
      "/Users/aliwa/Documents/Ulaval/thesis/works/cimentQuebec/Data/instances/createInstance/create_instance.py:22: UserWarning: Boolean Series key will be reindexed to match DataFrame index.\n",
      "  list_ordres = list(set( Object.df_orders[Object.df_orders['DATE']==jour]['ORDER_ID']))\n",
      "/Users/aliwa/Documents/Ulaval/thesis/works/cimentQuebec/Data/instances/createInstance/create_instance.py:32: UserWarning: Boolean Series key will be reindexed to match DataFrame index.\n",
      "  cur =  tickets[tickets['PROD_NBR'].isin(delivered_prod)][tickets['ORDER_ID']==ord]\n",
      "/Users/aliwa/Documents/Ulaval/thesis/works/cimentQuebec/Data/instances/createInstance/create_instance.py:134: UserWarning: Boolean Series key will be reindexed to match DataFrame index.\n",
      "  ticket_ordres = tickets[tickets['PROD_NBR'].isin(delivered_prod)][tickets['ORDER_ID'].isin([ord])]\n"
     ]
    },
    {
     "name": "stdout",
     "output_type": "stream",
     "text": [
      "Client Demand  3946.5\n",
      "order_demand  3946.5\n",
      "Instance 2020-10-30\n",
      "3513.0\n"
     ]
    },
    {
     "name": "stderr",
     "output_type": "stream",
     "text": [
      "/Users/aliwa/Documents/Ulaval/thesis/works/cimentQuebec/Data/instances/createInstance/create_instance.py:22: UserWarning: Boolean Series key will be reindexed to match DataFrame index.\n",
      "  list_ordres = list(set( Object.df_orders[Object.df_orders['DATE']==jour]['ORDER_ID']))\n",
      "/Users/aliwa/Documents/Ulaval/thesis/works/cimentQuebec/Data/instances/createInstance/create_instance.py:32: UserWarning: Boolean Series key will be reindexed to match DataFrame index.\n",
      "  cur =  tickets[tickets['PROD_NBR'].isin(delivered_prod)][tickets['ORDER_ID']==ord]\n",
      "/Users/aliwa/Documents/Ulaval/thesis/works/cimentQuebec/Data/instances/createInstance/create_instance.py:134: UserWarning: Boolean Series key will be reindexed to match DataFrame index.\n",
      "  ticket_ordres = tickets[tickets['PROD_NBR'].isin(delivered_prod)][tickets['ORDER_ID'].isin([ord])]\n"
     ]
    },
    {
     "name": "stdout",
     "output_type": "stream",
     "text": [
      "Client Demand  3513.0\n",
      "order_demand  3513.0\n",
      "Instance 2020-10-31\n",
      "375.0\n",
      "Client Demand  375.0\n",
      "order_demand  375.0\n",
      "Instance 2020-11-02\n",
      "3078.5\n"
     ]
    },
    {
     "name": "stderr",
     "output_type": "stream",
     "text": [
      "/Users/aliwa/Documents/Ulaval/thesis/works/cimentQuebec/Data/instances/createInstance/create_instance.py:22: UserWarning: Boolean Series key will be reindexed to match DataFrame index.\n",
      "  list_ordres = list(set( Object.df_orders[Object.df_orders['DATE']==jour]['ORDER_ID']))\n",
      "/Users/aliwa/Documents/Ulaval/thesis/works/cimentQuebec/Data/instances/createInstance/create_instance.py:32: UserWarning: Boolean Series key will be reindexed to match DataFrame index.\n",
      "  cur =  tickets[tickets['PROD_NBR'].isin(delivered_prod)][tickets['ORDER_ID']==ord]\n",
      "/Users/aliwa/Documents/Ulaval/thesis/works/cimentQuebec/Data/instances/createInstance/create_instance.py:134: UserWarning: Boolean Series key will be reindexed to match DataFrame index.\n",
      "  ticket_ordres = tickets[tickets['PROD_NBR'].isin(delivered_prod)][tickets['ORDER_ID'].isin([ord])]\n",
      "/Users/aliwa/Documents/Ulaval/thesis/works/cimentQuebec/Data/instances/createInstance/create_instance.py:22: UserWarning: Boolean Series key will be reindexed to match DataFrame index.\n",
      "  list_ordres = list(set( Object.df_orders[Object.df_orders['DATE']==jour]['ORDER_ID']))\n",
      "/Users/aliwa/Documents/Ulaval/thesis/works/cimentQuebec/Data/instances/createInstance/create_instance.py:32: UserWarning: Boolean Series key will be reindexed to match DataFrame index.\n",
      "  cur =  tickets[tickets['PROD_NBR'].isin(delivered_prod)][tickets['ORDER_ID']==ord]\n",
      "/Users/aliwa/Documents/Ulaval/thesis/works/cimentQuebec/Data/instances/createInstance/create_instance.py:134: UserWarning: Boolean Series key will be reindexed to match DataFrame index.\n",
      "  ticket_ordres = tickets[tickets['PROD_NBR'].isin(delivered_prod)][tickets['ORDER_ID'].isin([ord])]\n"
     ]
    },
    {
     "name": "stdout",
     "output_type": "stream",
     "text": [
      "Client Demand  3078.5\n",
      "order_demand  3078.5\n",
      "Instance 2020-11-03\n",
      "4042.5\n"
     ]
    },
    {
     "name": "stderr",
     "output_type": "stream",
     "text": [
      "/Users/aliwa/Documents/Ulaval/thesis/works/cimentQuebec/Data/instances/createInstance/create_instance.py:22: UserWarning: Boolean Series key will be reindexed to match DataFrame index.\n",
      "  list_ordres = list(set( Object.df_orders[Object.df_orders['DATE']==jour]['ORDER_ID']))\n",
      "/Users/aliwa/Documents/Ulaval/thesis/works/cimentQuebec/Data/instances/createInstance/create_instance.py:32: UserWarning: Boolean Series key will be reindexed to match DataFrame index.\n",
      "  cur =  tickets[tickets['PROD_NBR'].isin(delivered_prod)][tickets['ORDER_ID']==ord]\n",
      "/Users/aliwa/Documents/Ulaval/thesis/works/cimentQuebec/Data/instances/createInstance/create_instance.py:134: UserWarning: Boolean Series key will be reindexed to match DataFrame index.\n",
      "  ticket_ordres = tickets[tickets['PROD_NBR'].isin(delivered_prod)][tickets['ORDER_ID'].isin([ord])]\n"
     ]
    },
    {
     "name": "stdout",
     "output_type": "stream",
     "text": [
      "Client Demand  4042.5\n",
      "order_demand  4042.5\n",
      "Instance 2020-11-04\n",
      "3953.5\n"
     ]
    },
    {
     "name": "stderr",
     "output_type": "stream",
     "text": [
      "/Users/aliwa/Documents/Ulaval/thesis/works/cimentQuebec/Data/instances/createInstance/create_instance.py:22: UserWarning: Boolean Series key will be reindexed to match DataFrame index.\n",
      "  list_ordres = list(set( Object.df_orders[Object.df_orders['DATE']==jour]['ORDER_ID']))\n",
      "/Users/aliwa/Documents/Ulaval/thesis/works/cimentQuebec/Data/instances/createInstance/create_instance.py:32: UserWarning: Boolean Series key will be reindexed to match DataFrame index.\n",
      "  cur =  tickets[tickets['PROD_NBR'].isin(delivered_prod)][tickets['ORDER_ID']==ord]\n",
      "/Users/aliwa/Documents/Ulaval/thesis/works/cimentQuebec/Data/instances/createInstance/create_instance.py:134: UserWarning: Boolean Series key will be reindexed to match DataFrame index.\n",
      "  ticket_ordres = tickets[tickets['PROD_NBR'].isin(delivered_prod)][tickets['ORDER_ID'].isin([ord])]\n"
     ]
    },
    {
     "name": "stdout",
     "output_type": "stream",
     "text": [
      "Client Demand  3953.5\n",
      "order_demand  3953.5\n",
      "Instance 2020-11-05\n",
      "4080.0\n"
     ]
    },
    {
     "name": "stderr",
     "output_type": "stream",
     "text": [
      "/Users/aliwa/Documents/Ulaval/thesis/works/cimentQuebec/Data/instances/createInstance/create_instance.py:22: UserWarning: Boolean Series key will be reindexed to match DataFrame index.\n",
      "  list_ordres = list(set( Object.df_orders[Object.df_orders['DATE']==jour]['ORDER_ID']))\n",
      "/Users/aliwa/Documents/Ulaval/thesis/works/cimentQuebec/Data/instances/createInstance/create_instance.py:32: UserWarning: Boolean Series key will be reindexed to match DataFrame index.\n",
      "  cur =  tickets[tickets['PROD_NBR'].isin(delivered_prod)][tickets['ORDER_ID']==ord]\n",
      "/Users/aliwa/Documents/Ulaval/thesis/works/cimentQuebec/Data/instances/createInstance/create_instance.py:134: UserWarning: Boolean Series key will be reindexed to match DataFrame index.\n",
      "  ticket_ordres = tickets[tickets['PROD_NBR'].isin(delivered_prod)][tickets['ORDER_ID'].isin([ord])]\n"
     ]
    },
    {
     "name": "stdout",
     "output_type": "stream",
     "text": [
      "Client Demand  4080.0\n",
      "order_demand  4080.0\n",
      "Instance 2020-11-06\n",
      "3350.5\n"
     ]
    },
    {
     "name": "stderr",
     "output_type": "stream",
     "text": [
      "/Users/aliwa/Documents/Ulaval/thesis/works/cimentQuebec/Data/instances/createInstance/create_instance.py:22: UserWarning: Boolean Series key will be reindexed to match DataFrame index.\n",
      "  list_ordres = list(set( Object.df_orders[Object.df_orders['DATE']==jour]['ORDER_ID']))\n",
      "/Users/aliwa/Documents/Ulaval/thesis/works/cimentQuebec/Data/instances/createInstance/create_instance.py:32: UserWarning: Boolean Series key will be reindexed to match DataFrame index.\n",
      "  cur =  tickets[tickets['PROD_NBR'].isin(delivered_prod)][tickets['ORDER_ID']==ord]\n",
      "/Users/aliwa/Documents/Ulaval/thesis/works/cimentQuebec/Data/instances/createInstance/create_instance.py:134: UserWarning: Boolean Series key will be reindexed to match DataFrame index.\n",
      "  ticket_ordres = tickets[tickets['PROD_NBR'].isin(delivered_prod)][tickets['ORDER_ID'].isin([ord])]\n"
     ]
    },
    {
     "name": "stdout",
     "output_type": "stream",
     "text": [
      "Client Demand  3350.5\n",
      "order_demand  3350.5\n",
      "Instance 2020-11-07\n",
      "333.5\n",
      "Client Demand  333.5\n",
      "order_demand  333.5\n",
      "Instance 2020-11-09\n",
      "1746.5\n"
     ]
    },
    {
     "name": "stderr",
     "output_type": "stream",
     "text": [
      "/Users/aliwa/Documents/Ulaval/thesis/works/cimentQuebec/Data/instances/createInstance/create_instance.py:22: UserWarning: Boolean Series key will be reindexed to match DataFrame index.\n",
      "  list_ordres = list(set( Object.df_orders[Object.df_orders['DATE']==jour]['ORDER_ID']))\n",
      "/Users/aliwa/Documents/Ulaval/thesis/works/cimentQuebec/Data/instances/createInstance/create_instance.py:32: UserWarning: Boolean Series key will be reindexed to match DataFrame index.\n",
      "  cur =  tickets[tickets['PROD_NBR'].isin(delivered_prod)][tickets['ORDER_ID']==ord]\n",
      "/Users/aliwa/Documents/Ulaval/thesis/works/cimentQuebec/Data/instances/createInstance/create_instance.py:134: UserWarning: Boolean Series key will be reindexed to match DataFrame index.\n",
      "  ticket_ordres = tickets[tickets['PROD_NBR'].isin(delivered_prod)][tickets['ORDER_ID'].isin([ord])]\n",
      "/Users/aliwa/Documents/Ulaval/thesis/works/cimentQuebec/Data/instances/createInstance/create_instance.py:22: UserWarning: Boolean Series key will be reindexed to match DataFrame index.\n",
      "  list_ordres = list(set( Object.df_orders[Object.df_orders['DATE']==jour]['ORDER_ID']))\n",
      "/Users/aliwa/Documents/Ulaval/thesis/works/cimentQuebec/Data/instances/createInstance/create_instance.py:32: UserWarning: Boolean Series key will be reindexed to match DataFrame index.\n",
      "  cur =  tickets[tickets['PROD_NBR'].isin(delivered_prod)][tickets['ORDER_ID']==ord]\n",
      "/Users/aliwa/Documents/Ulaval/thesis/works/cimentQuebec/Data/instances/createInstance/create_instance.py:134: UserWarning: Boolean Series key will be reindexed to match DataFrame index.\n",
      "  ticket_ordres = tickets[tickets['PROD_NBR'].isin(delivered_prod)][tickets['ORDER_ID'].isin([ord])]\n"
     ]
    },
    {
     "name": "stdout",
     "output_type": "stream",
     "text": [
      "Client Demand  1746.5\n",
      "order_demand  1746.5\n",
      "Instance 2020-11-10\n",
      "3499.5\n"
     ]
    },
    {
     "name": "stderr",
     "output_type": "stream",
     "text": [
      "/Users/aliwa/Documents/Ulaval/thesis/works/cimentQuebec/Data/instances/createInstance/create_instance.py:22: UserWarning: Boolean Series key will be reindexed to match DataFrame index.\n",
      "  list_ordres = list(set( Object.df_orders[Object.df_orders['DATE']==jour]['ORDER_ID']))\n",
      "/Users/aliwa/Documents/Ulaval/thesis/works/cimentQuebec/Data/instances/createInstance/create_instance.py:32: UserWarning: Boolean Series key will be reindexed to match DataFrame index.\n",
      "  cur =  tickets[tickets['PROD_NBR'].isin(delivered_prod)][tickets['ORDER_ID']==ord]\n",
      "/Users/aliwa/Documents/Ulaval/thesis/works/cimentQuebec/Data/instances/createInstance/create_instance.py:134: UserWarning: Boolean Series key will be reindexed to match DataFrame index.\n",
      "  ticket_ordres = tickets[tickets['PROD_NBR'].isin(delivered_prod)][tickets['ORDER_ID'].isin([ord])]\n"
     ]
    },
    {
     "name": "stdout",
     "output_type": "stream",
     "text": [
      "Client Demand  3499.5\n",
      "order_demand  3499.5\n",
      "Instance 2020-11-11\n",
      "3437.5\n"
     ]
    },
    {
     "name": "stderr",
     "output_type": "stream",
     "text": [
      "/Users/aliwa/Documents/Ulaval/thesis/works/cimentQuebec/Data/instances/createInstance/create_instance.py:22: UserWarning: Boolean Series key will be reindexed to match DataFrame index.\n",
      "  list_ordres = list(set( Object.df_orders[Object.df_orders['DATE']==jour]['ORDER_ID']))\n",
      "/Users/aliwa/Documents/Ulaval/thesis/works/cimentQuebec/Data/instances/createInstance/create_instance.py:32: UserWarning: Boolean Series key will be reindexed to match DataFrame index.\n",
      "  cur =  tickets[tickets['PROD_NBR'].isin(delivered_prod)][tickets['ORDER_ID']==ord]\n",
      "/Users/aliwa/Documents/Ulaval/thesis/works/cimentQuebec/Data/instances/createInstance/create_instance.py:134: UserWarning: Boolean Series key will be reindexed to match DataFrame index.\n",
      "  ticket_ordres = tickets[tickets['PROD_NBR'].isin(delivered_prod)][tickets['ORDER_ID'].isin([ord])]\n"
     ]
    },
    {
     "name": "stdout",
     "output_type": "stream",
     "text": [
      "Client Demand  3437.5\n",
      "order_demand  3437.5\n",
      "Instance 2020-11-12\n",
      "3684.5\n"
     ]
    },
    {
     "name": "stderr",
     "output_type": "stream",
     "text": [
      "/Users/aliwa/Documents/Ulaval/thesis/works/cimentQuebec/Data/instances/createInstance/create_instance.py:22: UserWarning: Boolean Series key will be reindexed to match DataFrame index.\n",
      "  list_ordres = list(set( Object.df_orders[Object.df_orders['DATE']==jour]['ORDER_ID']))\n",
      "/Users/aliwa/Documents/Ulaval/thesis/works/cimentQuebec/Data/instances/createInstance/create_instance.py:32: UserWarning: Boolean Series key will be reindexed to match DataFrame index.\n",
      "  cur =  tickets[tickets['PROD_NBR'].isin(delivered_prod)][tickets['ORDER_ID']==ord]\n",
      "/Users/aliwa/Documents/Ulaval/thesis/works/cimentQuebec/Data/instances/createInstance/create_instance.py:134: UserWarning: Boolean Series key will be reindexed to match DataFrame index.\n",
      "  ticket_ordres = tickets[tickets['PROD_NBR'].isin(delivered_prod)][tickets['ORDER_ID'].isin([ord])]\n"
     ]
    },
    {
     "name": "stdout",
     "output_type": "stream",
     "text": [
      "Client Demand  3684.5\n",
      "order_demand  3684.5\n",
      "Instance 2020-11-13\n",
      "3670.5\n"
     ]
    },
    {
     "name": "stderr",
     "output_type": "stream",
     "text": [
      "/Users/aliwa/Documents/Ulaval/thesis/works/cimentQuebec/Data/instances/createInstance/create_instance.py:22: UserWarning: Boolean Series key will be reindexed to match DataFrame index.\n",
      "  list_ordres = list(set( Object.df_orders[Object.df_orders['DATE']==jour]['ORDER_ID']))\n",
      "/Users/aliwa/Documents/Ulaval/thesis/works/cimentQuebec/Data/instances/createInstance/create_instance.py:32: UserWarning: Boolean Series key will be reindexed to match DataFrame index.\n",
      "  cur =  tickets[tickets['PROD_NBR'].isin(delivered_prod)][tickets['ORDER_ID']==ord]\n",
      "/Users/aliwa/Documents/Ulaval/thesis/works/cimentQuebec/Data/instances/createInstance/create_instance.py:134: UserWarning: Boolean Series key will be reindexed to match DataFrame index.\n",
      "  ticket_ordres = tickets[tickets['PROD_NBR'].isin(delivered_prod)][tickets['ORDER_ID'].isin([ord])]\n"
     ]
    },
    {
     "name": "stdout",
     "output_type": "stream",
     "text": [
      "Client Demand  3670.5\n",
      "order_demand  3670.5\n",
      "Instance 2020-11-14\n",
      "388.0\n",
      "Client Demand  388.0\n",
      "order_demand  388.0\n",
      "Instance 2020-11-16\n",
      "2939.5\n"
     ]
    },
    {
     "name": "stderr",
     "output_type": "stream",
     "text": [
      "/Users/aliwa/Documents/Ulaval/thesis/works/cimentQuebec/Data/instances/createInstance/create_instance.py:22: UserWarning: Boolean Series key will be reindexed to match DataFrame index.\n",
      "  list_ordres = list(set( Object.df_orders[Object.df_orders['DATE']==jour]['ORDER_ID']))\n",
      "/Users/aliwa/Documents/Ulaval/thesis/works/cimentQuebec/Data/instances/createInstance/create_instance.py:32: UserWarning: Boolean Series key will be reindexed to match DataFrame index.\n",
      "  cur =  tickets[tickets['PROD_NBR'].isin(delivered_prod)][tickets['ORDER_ID']==ord]\n",
      "/Users/aliwa/Documents/Ulaval/thesis/works/cimentQuebec/Data/instances/createInstance/create_instance.py:134: UserWarning: Boolean Series key will be reindexed to match DataFrame index.\n",
      "  ticket_ordres = tickets[tickets['PROD_NBR'].isin(delivered_prod)][tickets['ORDER_ID'].isin([ord])]\n",
      "/Users/aliwa/Documents/Ulaval/thesis/works/cimentQuebec/Data/instances/createInstance/create_instance.py:22: UserWarning: Boolean Series key will be reindexed to match DataFrame index.\n",
      "  list_ordres = list(set( Object.df_orders[Object.df_orders['DATE']==jour]['ORDER_ID']))\n",
      "/Users/aliwa/Documents/Ulaval/thesis/works/cimentQuebec/Data/instances/createInstance/create_instance.py:32: UserWarning: Boolean Series key will be reindexed to match DataFrame index.\n",
      "  cur =  tickets[tickets['PROD_NBR'].isin(delivered_prod)][tickets['ORDER_ID']==ord]\n",
      "/Users/aliwa/Documents/Ulaval/thesis/works/cimentQuebec/Data/instances/createInstance/create_instance.py:134: UserWarning: Boolean Series key will be reindexed to match DataFrame index.\n",
      "  ticket_ordres = tickets[tickets['PROD_NBR'].isin(delivered_prod)][tickets['ORDER_ID'].isin([ord])]\n"
     ]
    },
    {
     "name": "stdout",
     "output_type": "stream",
     "text": [
      "Client Demand  2939.5\n",
      "order_demand  2939.5\n",
      "Instance 2020-11-17\n",
      "3288.5\n"
     ]
    },
    {
     "name": "stderr",
     "output_type": "stream",
     "text": [
      "/Users/aliwa/Documents/Ulaval/thesis/works/cimentQuebec/Data/instances/createInstance/create_instance.py:22: UserWarning: Boolean Series key will be reindexed to match DataFrame index.\n",
      "  list_ordres = list(set( Object.df_orders[Object.df_orders['DATE']==jour]['ORDER_ID']))\n",
      "/Users/aliwa/Documents/Ulaval/thesis/works/cimentQuebec/Data/instances/createInstance/create_instance.py:32: UserWarning: Boolean Series key will be reindexed to match DataFrame index.\n",
      "  cur =  tickets[tickets['PROD_NBR'].isin(delivered_prod)][tickets['ORDER_ID']==ord]\n",
      "/Users/aliwa/Documents/Ulaval/thesis/works/cimentQuebec/Data/instances/createInstance/create_instance.py:134: UserWarning: Boolean Series key will be reindexed to match DataFrame index.\n",
      "  ticket_ordres = tickets[tickets['PROD_NBR'].isin(delivered_prod)][tickets['ORDER_ID'].isin([ord])]\n"
     ]
    },
    {
     "name": "stdout",
     "output_type": "stream",
     "text": [
      "Client Demand  3288.5\n",
      "order_demand  3288.5\n",
      "Instance 2020-11-18\n",
      "3541.0\n"
     ]
    },
    {
     "name": "stderr",
     "output_type": "stream",
     "text": [
      "/Users/aliwa/Documents/Ulaval/thesis/works/cimentQuebec/Data/instances/createInstance/create_instance.py:22: UserWarning: Boolean Series key will be reindexed to match DataFrame index.\n",
      "  list_ordres = list(set( Object.df_orders[Object.df_orders['DATE']==jour]['ORDER_ID']))\n",
      "/Users/aliwa/Documents/Ulaval/thesis/works/cimentQuebec/Data/instances/createInstance/create_instance.py:32: UserWarning: Boolean Series key will be reindexed to match DataFrame index.\n",
      "  cur =  tickets[tickets['PROD_NBR'].isin(delivered_prod)][tickets['ORDER_ID']==ord]\n",
      "/Users/aliwa/Documents/Ulaval/thesis/works/cimentQuebec/Data/instances/createInstance/create_instance.py:134: UserWarning: Boolean Series key will be reindexed to match DataFrame index.\n",
      "  ticket_ordres = tickets[tickets['PROD_NBR'].isin(delivered_prod)][tickets['ORDER_ID'].isin([ord])]\n"
     ]
    },
    {
     "name": "stdout",
     "output_type": "stream",
     "text": [
      "Client Demand  3541.0\n",
      "order_demand  3541.0\n",
      "Instance 2020-11-19\n",
      "3447.5\n"
     ]
    },
    {
     "name": "stderr",
     "output_type": "stream",
     "text": [
      "/Users/aliwa/Documents/Ulaval/thesis/works/cimentQuebec/Data/instances/createInstance/create_instance.py:22: UserWarning: Boolean Series key will be reindexed to match DataFrame index.\n",
      "  list_ordres = list(set( Object.df_orders[Object.df_orders['DATE']==jour]['ORDER_ID']))\n",
      "/Users/aliwa/Documents/Ulaval/thesis/works/cimentQuebec/Data/instances/createInstance/create_instance.py:32: UserWarning: Boolean Series key will be reindexed to match DataFrame index.\n",
      "  cur =  tickets[tickets['PROD_NBR'].isin(delivered_prod)][tickets['ORDER_ID']==ord]\n",
      "/Users/aliwa/Documents/Ulaval/thesis/works/cimentQuebec/Data/instances/createInstance/create_instance.py:134: UserWarning: Boolean Series key will be reindexed to match DataFrame index.\n",
      "  ticket_ordres = tickets[tickets['PROD_NBR'].isin(delivered_prod)][tickets['ORDER_ID'].isin([ord])]\n"
     ]
    },
    {
     "name": "stdout",
     "output_type": "stream",
     "text": [
      "Client Demand  3447.5\n",
      "order_demand  3447.5\n",
      "Instance 2020-11-20\n",
      "3401.5\n"
     ]
    },
    {
     "name": "stderr",
     "output_type": "stream",
     "text": [
      "/Users/aliwa/Documents/Ulaval/thesis/works/cimentQuebec/Data/instances/createInstance/create_instance.py:22: UserWarning: Boolean Series key will be reindexed to match DataFrame index.\n",
      "  list_ordres = list(set( Object.df_orders[Object.df_orders['DATE']==jour]['ORDER_ID']))\n",
      "/Users/aliwa/Documents/Ulaval/thesis/works/cimentQuebec/Data/instances/createInstance/create_instance.py:32: UserWarning: Boolean Series key will be reindexed to match DataFrame index.\n",
      "  cur =  tickets[tickets['PROD_NBR'].isin(delivered_prod)][tickets['ORDER_ID']==ord]\n",
      "/Users/aliwa/Documents/Ulaval/thesis/works/cimentQuebec/Data/instances/createInstance/create_instance.py:134: UserWarning: Boolean Series key will be reindexed to match DataFrame index.\n",
      "  ticket_ordres = tickets[tickets['PROD_NBR'].isin(delivered_prod)][tickets['ORDER_ID'].isin([ord])]\n"
     ]
    },
    {
     "name": "stdout",
     "output_type": "stream",
     "text": [
      "Client Demand  3401.5\n",
      "order_demand  3401.5\n",
      "Instance 2020-11-21\n",
      "226.5\n",
      "Client Demand  226.5\n",
      "order_demand  226.5\n",
      "Instance 2020-11-23\n",
      "2595.0\n"
     ]
    },
    {
     "name": "stderr",
     "output_type": "stream",
     "text": [
      "/Users/aliwa/Documents/Ulaval/thesis/works/cimentQuebec/Data/instances/createInstance/create_instance.py:22: UserWarning: Boolean Series key will be reindexed to match DataFrame index.\n",
      "  list_ordres = list(set( Object.df_orders[Object.df_orders['DATE']==jour]['ORDER_ID']))\n",
      "/Users/aliwa/Documents/Ulaval/thesis/works/cimentQuebec/Data/instances/createInstance/create_instance.py:32: UserWarning: Boolean Series key will be reindexed to match DataFrame index.\n",
      "  cur =  tickets[tickets['PROD_NBR'].isin(delivered_prod)][tickets['ORDER_ID']==ord]\n",
      "/Users/aliwa/Documents/Ulaval/thesis/works/cimentQuebec/Data/instances/createInstance/create_instance.py:134: UserWarning: Boolean Series key will be reindexed to match DataFrame index.\n",
      "  ticket_ordres = tickets[tickets['PROD_NBR'].isin(delivered_prod)][tickets['ORDER_ID'].isin([ord])]\n",
      "/Users/aliwa/Documents/Ulaval/thesis/works/cimentQuebec/Data/instances/createInstance/create_instance.py:22: UserWarning: Boolean Series key will be reindexed to match DataFrame index.\n",
      "  list_ordres = list(set( Object.df_orders[Object.df_orders['DATE']==jour]['ORDER_ID']))\n",
      "/Users/aliwa/Documents/Ulaval/thesis/works/cimentQuebec/Data/instances/createInstance/create_instance.py:32: UserWarning: Boolean Series key will be reindexed to match DataFrame index.\n",
      "  cur =  tickets[tickets['PROD_NBR'].isin(delivered_prod)][tickets['ORDER_ID']==ord]\n",
      "/Users/aliwa/Documents/Ulaval/thesis/works/cimentQuebec/Data/instances/createInstance/create_instance.py:134: UserWarning: Boolean Series key will be reindexed to match DataFrame index.\n",
      "  ticket_ordres = tickets[tickets['PROD_NBR'].isin(delivered_prod)][tickets['ORDER_ID'].isin([ord])]\n"
     ]
    },
    {
     "name": "stdout",
     "output_type": "stream",
     "text": [
      "Client Demand  2595.0\n",
      "order_demand  2595.0\n",
      "Instance 2020-11-24\n",
      "2685.5\n"
     ]
    },
    {
     "name": "stderr",
     "output_type": "stream",
     "text": [
      "/Users/aliwa/Documents/Ulaval/thesis/works/cimentQuebec/Data/instances/createInstance/create_instance.py:22: UserWarning: Boolean Series key will be reindexed to match DataFrame index.\n",
      "  list_ordres = list(set( Object.df_orders[Object.df_orders['DATE']==jour]['ORDER_ID']))\n",
      "/Users/aliwa/Documents/Ulaval/thesis/works/cimentQuebec/Data/instances/createInstance/create_instance.py:32: UserWarning: Boolean Series key will be reindexed to match DataFrame index.\n",
      "  cur =  tickets[tickets['PROD_NBR'].isin(delivered_prod)][tickets['ORDER_ID']==ord]\n",
      "/Users/aliwa/Documents/Ulaval/thesis/works/cimentQuebec/Data/instances/createInstance/create_instance.py:134: UserWarning: Boolean Series key will be reindexed to match DataFrame index.\n",
      "  ticket_ordres = tickets[tickets['PROD_NBR'].isin(delivered_prod)][tickets['ORDER_ID'].isin([ord])]\n"
     ]
    },
    {
     "name": "stdout",
     "output_type": "stream",
     "text": [
      "Client Demand  2685.5\n",
      "order_demand  2685.5\n",
      "Instance 2020-11-25\n",
      "2425.0\n"
     ]
    },
    {
     "name": "stderr",
     "output_type": "stream",
     "text": [
      "/Users/aliwa/Documents/Ulaval/thesis/works/cimentQuebec/Data/instances/createInstance/create_instance.py:22: UserWarning: Boolean Series key will be reindexed to match DataFrame index.\n",
      "  list_ordres = list(set( Object.df_orders[Object.df_orders['DATE']==jour]['ORDER_ID']))\n",
      "/Users/aliwa/Documents/Ulaval/thesis/works/cimentQuebec/Data/instances/createInstance/create_instance.py:32: UserWarning: Boolean Series key will be reindexed to match DataFrame index.\n",
      "  cur =  tickets[tickets['PROD_NBR'].isin(delivered_prod)][tickets['ORDER_ID']==ord]\n",
      "/Users/aliwa/Documents/Ulaval/thesis/works/cimentQuebec/Data/instances/createInstance/create_instance.py:134: UserWarning: Boolean Series key will be reindexed to match DataFrame index.\n",
      "  ticket_ordres = tickets[tickets['PROD_NBR'].isin(delivered_prod)][tickets['ORDER_ID'].isin([ord])]\n"
     ]
    },
    {
     "name": "stdout",
     "output_type": "stream",
     "text": [
      "Client Demand  2425.0\n",
      "order_demand  2425.0\n",
      "Instance 2020-11-26\n"
     ]
    },
    {
     "name": "stderr",
     "output_type": "stream",
     "text": [
      "/Users/aliwa/Documents/Ulaval/thesis/works/cimentQuebec/Data/instances/createInstance/create_instance.py:22: UserWarning: Boolean Series key will be reindexed to match DataFrame index.\n",
      "  list_ordres = list(set( Object.df_orders[Object.df_orders['DATE']==jour]['ORDER_ID']))\n",
      "/Users/aliwa/Documents/Ulaval/thesis/works/cimentQuebec/Data/instances/createInstance/create_instance.py:32: UserWarning: Boolean Series key will be reindexed to match DataFrame index.\n",
      "  cur =  tickets[tickets['PROD_NBR'].isin(delivered_prod)][tickets['ORDER_ID']==ord]\n"
     ]
    },
    {
     "name": "stdout",
     "output_type": "stream",
     "text": [
      "2971.0\n"
     ]
    },
    {
     "name": "stderr",
     "output_type": "stream",
     "text": [
      "/Users/aliwa/Documents/Ulaval/thesis/works/cimentQuebec/Data/instances/createInstance/create_instance.py:134: UserWarning: Boolean Series key will be reindexed to match DataFrame index.\n",
      "  ticket_ordres = tickets[tickets['PROD_NBR'].isin(delivered_prod)][tickets['ORDER_ID'].isin([ord])]\n"
     ]
    },
    {
     "name": "stdout",
     "output_type": "stream",
     "text": [
      "Client Demand  2971.0\n",
      "order_demand  2971.0\n",
      "Instance 2020-11-27\n",
      "3129.5\n"
     ]
    },
    {
     "name": "stderr",
     "output_type": "stream",
     "text": [
      "/Users/aliwa/Documents/Ulaval/thesis/works/cimentQuebec/Data/instances/createInstance/create_instance.py:22: UserWarning: Boolean Series key will be reindexed to match DataFrame index.\n",
      "  list_ordres = list(set( Object.df_orders[Object.df_orders['DATE']==jour]['ORDER_ID']))\n",
      "/Users/aliwa/Documents/Ulaval/thesis/works/cimentQuebec/Data/instances/createInstance/create_instance.py:32: UserWarning: Boolean Series key will be reindexed to match DataFrame index.\n",
      "  cur =  tickets[tickets['PROD_NBR'].isin(delivered_prod)][tickets['ORDER_ID']==ord]\n",
      "/Users/aliwa/Documents/Ulaval/thesis/works/cimentQuebec/Data/instances/createInstance/create_instance.py:134: UserWarning: Boolean Series key will be reindexed to match DataFrame index.\n",
      "  ticket_ordres = tickets[tickets['PROD_NBR'].isin(delivered_prod)][tickets['ORDER_ID'].isin([ord])]\n"
     ]
    },
    {
     "name": "stdout",
     "output_type": "stream",
     "text": [
      "Client Demand  3129.5\n",
      "order_demand  3129.5\n",
      "Instance 2020-11-28\n",
      "776.0\n",
      "Client Demand  776.0\n",
      "order_demand  776.0\n",
      "Instance 2020-11-30\n",
      "2327.5\n"
     ]
    },
    {
     "name": "stderr",
     "output_type": "stream",
     "text": [
      "/Users/aliwa/Documents/Ulaval/thesis/works/cimentQuebec/Data/instances/createInstance/create_instance.py:22: UserWarning: Boolean Series key will be reindexed to match DataFrame index.\n",
      "  list_ordres = list(set( Object.df_orders[Object.df_orders['DATE']==jour]['ORDER_ID']))\n",
      "/Users/aliwa/Documents/Ulaval/thesis/works/cimentQuebec/Data/instances/createInstance/create_instance.py:32: UserWarning: Boolean Series key will be reindexed to match DataFrame index.\n",
      "  cur =  tickets[tickets['PROD_NBR'].isin(delivered_prod)][tickets['ORDER_ID']==ord]\n",
      "/Users/aliwa/Documents/Ulaval/thesis/works/cimentQuebec/Data/instances/createInstance/create_instance.py:134: UserWarning: Boolean Series key will be reindexed to match DataFrame index.\n",
      "  ticket_ordres = tickets[tickets['PROD_NBR'].isin(delivered_prod)][tickets['ORDER_ID'].isin([ord])]\n",
      "/Users/aliwa/Documents/Ulaval/thesis/works/cimentQuebec/Data/instances/createInstance/create_instance.py:22: UserWarning: Boolean Series key will be reindexed to match DataFrame index.\n",
      "  list_ordres = list(set( Object.df_orders[Object.df_orders['DATE']==jour]['ORDER_ID']))\n",
      "/Users/aliwa/Documents/Ulaval/thesis/works/cimentQuebec/Data/instances/createInstance/create_instance.py:32: UserWarning: Boolean Series key will be reindexed to match DataFrame index.\n",
      "  cur =  tickets[tickets['PROD_NBR'].isin(delivered_prod)][tickets['ORDER_ID']==ord]\n",
      "/Users/aliwa/Documents/Ulaval/thesis/works/cimentQuebec/Data/instances/createInstance/create_instance.py:134: UserWarning: Boolean Series key will be reindexed to match DataFrame index.\n",
      "  ticket_ordres = tickets[tickets['PROD_NBR'].isin(delivered_prod)][tickets['ORDER_ID'].isin([ord])]\n"
     ]
    },
    {
     "name": "stdout",
     "output_type": "stream",
     "text": [
      "Client Demand  2327.5\n",
      "order_demand  2327.5\n"
     ]
    }
   ],
   "source": [
    "import importlib\n",
    "importlib.reload(create_instance)\n",
    "# create_instance.create_instance_CQ(myInstance,datetime.date(2020,10,10))\n",
    "create_instance.create_all_instances_CQ(myInstance)"
   ]
  },
  {
   "cell_type": "code",
   "execution_count": null,
   "id": "0a0aac54",
   "metadata": {},
   "outputs": [],
   "source": []
  }
 ],
 "metadata": {
  "kernelspec": {
   "display_name": "Python 3 (ipykernel)",
   "language": "python",
   "name": "python3"
  },
  "language_info": {
   "codemirror_mode": {
    "name": "ipython",
    "version": 3
   },
   "file_extension": ".py",
   "mimetype": "text/x-python",
   "name": "python",
   "nbconvert_exporter": "python",
   "pygments_lexer": "ipython3",
   "version": "3.10.9"
  }
 },
 "nbformat": 4,
 "nbformat_minor": 5
}
