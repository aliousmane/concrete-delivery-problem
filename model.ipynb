{
 "metadata": {
  "language_info": {
   "codemirror_mode": {
    "name": "ipython",
    "version": 3
   },
   "file_extension": ".py",
   "mimetype": "text/x-python",
   "name": "python",
   "nbconvert_exporter": "python",
   "pygments_lexer": "ipython3",
   "version": "3.8.3"
  },
  "orig_nbformat": 2,
  "kernelspec": {
   "name": "python383jvsc74a57bd0b3ba2566441a7c06988d0923437866b63cedc61552a5af99d1f4fb67d367b25f",
   "display_name": "Python 3.8.3 64-bit ('base': conda)"
  },
  "metadata": {
   "interpreter": {
    "hash": "63fd5069d213b44bf678585dea6b12cceca9941eaf7f819626cde1f2670de90d"
   }
  }
 },
 "nbformat": 4,
 "nbformat_minor": 2,
 "cells": [
  {
   "source": [
    "# Optimisation de la planification chez Ciment quebec"
   ],
   "cell_type": "markdown",
   "metadata": {}
  },
  {
   "source": [
    "## Objective\n",
    "    - Schedule the daily concrete deliveries\n",
    "    - Minimize the vehicle travel times\n",
    "    - Minimize waiting time at loading station ?\n",
    "\n"
   ],
   "cell_type": "markdown",
   "metadata": {}
  },
  {
   "source": [
    "## Constraints\n",
    "\n",
    "- Concrete is produced at several *homogeneous* production sites located some distance away from the customers. \n",
    "- Each truck has its assigned production site which is its start depot\n",
    "- At the end of the day, a truck returns to its assigned depot"
   ],
   "cell_type": "markdown",
   "metadata": {}
  },
  {
   "source": [
    "### Notation\n",
    "- $\\mathcal{O}$: set of orders \n",
    "- $\\mathcal{P}$: set of depots \n",
    "- $\\mathcal{K}_p$ : set of trucks assigned to depot $p$\n",
    "- $Q_o$: Demand of customer order $o$\n",
    "- $Q^k$: Capacity of a truck\n",
    "- $R^p$: Capacity of a depot $p$\n",
    "- $p_k$: home plant of truck k\n",
    "-  $[E_o, F_o]$: Time window associated with order o\n",
    "- $T^k_{o1,o2}$: time to go from the construction site of order $o_1$ to the construction site of order $o_2$ while also being loaded at the closest plant enroute, from which the construction site of order $o_2$ can be reached in less than 2 hours; does not depend on the amount of concrete in the truck\n",
    "- $T_{p,o}$ : time to go from the location site of plant $p$ to the construction site of order $o$, \n",
    "- $T_{o,p}$ :  time to go from the construction site of order $o$ to the location site of plant $p$.\n",
    "- $L^k_o$: time to load truck $k$ at the construction site $o$, depends on the truck and on the amount of loaded concrete.\n",
    "- $U^k_o$: time to unload truck $k$ at the construction site $o$, depends on the truck and the construction site, but not on the amount of unloaded concrete.\n",
    "- $\\mathcal{D}_o$: set of potential deliveries associated with each order, index of the sequence of visiting trucks of $o$.\n",
    "- |$\\mathcal{D}_o$|: upper bound of the approximate number of deliveries for an order $o$."
   ],
   "cell_type": "markdown",
   "metadata": {}
  },
  {
   "source": [
    "### Bound of number of deliveries\n",
    "#### The minimum number of deliveries required \n",
    "- Assume that all unloading operations are executed by the largest truck available.\n",
    "- $LB_o =  \\lceil { \\frac{Q_o}{max \\{ Q^k\\}} } \\rceil$\n",
    "#### The maximum number of deliveries required \n",
    "- Assume that all unloading operations are executed by the smallest truck available.\n",
    "- $UB_o =  \\lceil { \\frac{Q_o}{min \\{ Q^k\\}} } \\rceil$\n"
   ],
   "cell_type": "markdown",
   "metadata": {}
  },
  {
   "source": [
    "## Decision variables"
   ],
   "cell_type": "markdown",
   "metadata": {}
  },
  {
   "source": [
    "- $x^k_{o_1,d_1;o_2,d_2}=1$ when truck $k$ serves delivery $d_2$ of order $o_2$ immediately after serving delivery $d_1$ of order $o_1$.\n",
    "- $x^k_{d_1d_2p}=1$ when truck $k$ serves delivery $d_2$  immediately after serving delivery $d_1$ from plant $p$\n",
    "- $x^k_{ij}=1$ when truck $k$ travels arc ($i$, $j$)"
   ],
   "cell_type": "markdown",
   "metadata": {}
  },
  {
   "source": [
    "Plants are capacitated.\n",
    "\n",
    "- $ \\sum_{k \\in \\mathcal{K}} \\sum_{d \\in \\delta^{+}(p)}{q_d x^k_{pd}} \\leq R_p $ for delivery $d$ and depot $p$"
   ],
   "cell_type": "markdown",
   "metadata": {}
  },
  {
   "source": [
    "Trucks are capacitated\n",
    "\n",
    "- $ \\sum_{(i,o) \\in A}{q_ox^k_{io}} \\leq Q^k $"
   ],
   "cell_type": "markdown",
   "metadata": {}
  },
  {
   "source": [
    "-  $u^k_{o,d}=1$  iif the first delivery to be performed by truck $k$ along the planning horizon (day) refers to executing delivery $d$ of order $o$.\n",
    "-  $v^k_{o,d} =1 $ iif delivery $d$ of order $o$ is truck $k$ last assignment before returning to its home plant."
   ],
   "cell_type": "markdown",
   "metadata": {}
  },
  {
   "source": [
    "- $y^k_{o,d}=1$ iif  truck $k$ executes delivery $d$ of order $o$. \n",
    "- $y^k_{d}=1$ iif  truck $k$ executes delivery $d$"
   ],
   "cell_type": "markdown",
   "metadata": {}
  },
  {
   "source": [
    "- $z_{o,d}=1$ if the d-th potential delivery associated with order $o$ is executed. \n",
    "\n",
    "Its  serves as an indicator whether or not a certain delivery $d$ associated with order $o$ is supposed to be executed. \n",
    "\n",
    "Recall that $d \\in \\mathcal{D}_o$ is simply an index, so $d = 1$ represents the first delivery, that must be executed, and $d = |\\mathcal{D}_o|$ represents a true or dummy delivery depending if it is executed or not, respectively"
   ],
   "cell_type": "markdown",
   "metadata": {}
  },
  {
   "source": [
    "- $a_{o,d}$ ($b_{o,d}$) refers to the start (end) of the unloading operation associated with delivery $d$ of order $o$.\n",
    "\n",
    "    - $b_{o,d}$ coincides with the time when a truck leaves $o$ if and only if $o \\notin \\mathcal{O}'$ or $d > 1$ or $Q_k \\geq Q_o$.\n",
    "    - $a_{o,d}$ coincides with the time when the truck assigned to this particular delivery starts its unloading operation at the construction site corresponding to order $o$."
   ],
   "cell_type": "markdown",
   "metadata": {}
  },
  {
   "source": [
    "- $l_o$ captures any delayed start of the first delivery associated with order $o$. In case the first delivery starts after the end of the given time window interval $[E_o, F_o]$, $l_o$ evaluates the length of the resulting gap. In case the first delivery starts within the time window it will be equal to 0. Starting the very first delivery before $E_o$ is not permitted.\n"
   ],
   "cell_type": "markdown",
   "metadata": {}
  },
  {
   "source": [
    "## Objective function\n",
    "\n",
    " - Minimize the total time traveled by trucks. \n",
    " - Additionally gaps between consecutive deliveries, or starting the first delivery of any order o after $F_o$  are not desirable and need to be penalized. \n",
    " - To combine these features in a single objective function, we make use of the parameter $\\beta$ for penalizing gaps between consecutive deliveries\n",
    "\n",
    " min $\\sum_{o_1,o_2 ∈ \\mathcal{O},\\\\ d_1∈ \\mathcal{D}_{o_1} \\\\ d_2 ∈ \\mathcal{D}_{o_1} \\\\ k∈ \\mathcal{K}} {T^k_{o_1,o_2} · x^k_{o_1,d_1;o_2,d_2}}$ +  $\\sum_{o ∈ \\mathcal{O},\\\\ d ∈ \\mathcal{D}_{o} \\\\ k∈ \\mathcal{K}} {T_{p_k,o} · u^k_{o,d}}$ +  $\\sum_{o ∈ \\mathcal{O},\\\\ d ∈ \\mathcal{D}_{o} \\\\ k∈ \\mathcal{K}} {T_{o,p_k} · v^k_{o,d}}$ +  $\\beta \\sum_{o ∈ \\mathcal{O}}\\left(l_o + \\sum_{d \\in \\mathcal{D}_0}(a_{o,d}- b_{o,d-1})\\right) $\n",
    "\n"
   ],
   "cell_type": "markdown",
   "metadata": {}
  },
  {
   "source": [
    "- Reduce symmetric solutions: the very first delivery associated with any order needs to be executed by all means:\n",
    "    - $z_{o,1}= 1$"
   ],
   "cell_type": "markdown",
   "metadata": {}
  },
  {
   "source": [
    "\n",
    "- Only consecutive deliveries may need to be executed\n",
    "    - $z_{o,d} \\leq z_{o,d−1}$  $∀o ∈ \\mathcal{O}, d ∈ \\mathcal{D}_o : d>1$."
   ],
   "cell_type": "markdown",
   "metadata": {}
  },
  {
   "source": [
    "\n",
    "- When delivery $d$ of order $o$ is decided to be executed, a truck k must be assigned to it:\n",
    "    - $ \\sum_{k \\in \\mathcal{K}}y^k_{o,d} = z_{o,d} $ $∀o ∈ \\mathcal{O}, d \\in \\mathcal{D}_o :  $ d>1$"
   ],
   "cell_type": "markdown",
   "metadata": {}
  },
  {
   "source": [
    "- If truck $k$ is assigned to the execution of delivery $d$ associated with order $o$, the truck needs to go to the construction site of $o$:\n",
    "    - $y^k_{o,d} = u^k_{o,d} + \\sum_{ o_1 \\in \\mathcal{O} \\backslash \\{o\\} \\\\ d_1 \\in \\mathcal{D}_o } {x^k_{o_1,d_1;o,d}} + \\sum_{d_1 \\in \\mathcal{O}_o: \\\\ d_1 < d }{x^k_{o,d_1;o,d}} $ $\\forall o \\in \\mathcal{O}, d \\in \\mathcal{D}_o, k \\in \\mathcal{K} $"
   ],
   "cell_type": "markdown",
   "metadata": {}
  },
  {
   "source": [
    "\n",
    "- After executing a delivery, a truck must go somewhere else\n",
    "    - $y^k_{o,d} = v^k_{o,d} + \\sum_{ o_2 \\in \\mathcal{O} \\backslash \\{o\\} \\\\ d_2 \\in \\mathcal{D}_o } {x^k_{o,d;o_2,d_2}} + \\sum_{d_2 \\in \\mathcal{O}_o:\\\\ d_2 > d }{x^k_{o,d;o,d_2}} $ $\\forall o \\in \\mathcal{O}, d \\in \\mathcal{D}_o, k \\in \\mathcal{K} $"
   ],
   "cell_type": "markdown",
   "metadata": {}
  },
  {
   "source": [
    "-  A truck is allowed to leave its home plant (and execute its very first unloading operation per day) at most once:\n",
    "    - $ \\sum_{ o \\in \\mathcal{O} \\\\ d \\in \\mathcal{D}_o }{u^k_{o,d} \\leq 1} $ $ k \\in \\mathcal{K} $"
   ],
   "cell_type": "markdown",
   "metadata": {}
  },
  {
   "source": [
    "- In case a truck leaves its home plant it also needs to return there by the end of the day:\n",
    "    - $ \\sum_{ o \\in \\mathcal{O} \\\\ d \\in \\mathcal{D}_o } {u^k_{o,d}} = \\sum_{ o \\in \\mathcal{O} \\\\ d \\in \\mathcal{D}_o }{v^k_{o,d}} $ $ k \\in \\mathcal{K} $"
   ],
   "cell_type": "markdown",
   "metadata": {}
  },
  {
   "source": [
    "- The time difference between two consecutive unloading operations assigned to the same truck needs to be big enough to allow the truck driving to the closest plant and being loaded there.\n",
    "    - $  a_{o_2,d_2} \\geq b_{o_1,d_1} + T^k_{o_1,o_2}.x^k_{o_1,d_1;o_2;d_2} - M(1- x^k_{o_1,d_1;o_2,d_2}) $\n",
    "    \n",
    "     $ \\forall o_1, o_2 \\in \\mathcal{O}, o_1 \\neq o_2, d_1 \\in \\mathcal{D}_{o_1}, d_2 \\in \\mathcal{D}_{o_2}, k \\in \\mathcal{K}:$  $d1 > 1$ or $Q^k \\geq Q_{o_1}   $\n",
    "\n",
    "     - For two identical orders:\n",
    "        -  $a_{o,d_2} \\geq b_{o,d_1} + T^k_{o,o}.x^k_{o,d_1;o;d_2} $ \n",
    "        $ \\forall o_1, o_2 \\in \\mathcal{O}, d_1, d_2 \\in \\mathcal{D}_{o_1}, d_1 < d_2 $  \n",
    "\n",
    "    - M is defined as the difference between the latest possible time when truck $k$ could leave the construction site associated with order $o_1$ after having executed delivery $d_1$ and the earliest possible start of delivery $d_2$ for order $o_2$."
   ],
   "cell_type": "markdown",
   "metadata": {}
  },
  {
   "source": [
    "- Two trucks cannot be unloaded at the same time in a construction site:\n",
    "    - $a_{o,d } \\geq b_{o,d−1}$ $ \\forall o \\in \\mathcal{O}, d \\in \\mathcal{D}_o : d>1$"
   ],
   "cell_type": "markdown",
   "metadata": {}
  },
  {
   "source": [
    " - The first delivery of any order has to start after the begin of the given time window:\n",
    "      - $a_{o,1} \\geq E_o$  $ \\forall o \\in \\mathcal{O}$"
   ],
   "cell_type": "markdown",
   "metadata": {}
  },
  {
   "source": [
    "- A late start of the first delivery of order $o$ needs to be penalized in the objective function accordingly. The first delivery of any order is considered as starting late in case the unloading operation is initiated after the end of the corresponding time window:\n",
    "    - $l_o \\geq a_{o,1} - F_o $"
   ],
   "cell_type": "markdown",
   "metadata": {}
  },
  {
   "source": [
    "- To ensure that the required demand is totally delivered, the cumulative capacity of all trucks serving an order may not be smaller than such demand:\n",
    "    - $ \\sum_{d \\in \\mathcal{D}_o \\\\ k \\in \\mathcal{K} }{Q^ky^k_{o,d}} \\geq Q_o  $"
   ],
   "cell_type": "markdown",
   "metadata": {}
  },
  {
   "source": [
    " - The time to execute any delivery is determined as a constant dependent on the truck and the construction site:\n",
    "    - $b_{o,d} − a_{o,d}  \\geq U^k_o · y^k_{o,d}$ $∀o ∈ O, d ∈ \\mathcal{D}_o, k ∈ \\mathcal{K}$\n",
    "   - $b_{o,d} − a_{o,d} \\leq U^k_o + M'(1 − y^k_{o,d})$ $∀o ∈ O, d ∈ \\mathcal{D}_o , k ∈ \\mathcal{K}$, $M' = max\\{U^k_o : k ∈ K\\}− U^k_o$."
   ],
   "cell_type": "markdown",
   "metadata": {}
  },
  {
   "cell_type": "code",
   "execution_count": null,
   "metadata": {},
   "outputs": [],
   "source": [
    "## Formulation\n",
    "\n",
    "   \n",
    "   \n",
    " \n",
    "   \n",
    "\n"
   ]
  },
  {
   "cell_type": "code",
   "execution_count": null,
   "metadata": {},
   "outputs": [],
   "source": [
    "Nature du produit\n",
    "Plusieurs types de béton\n",
    "Différents temps de chargement\n",
    "Différents temps de déchargement\n",
    "Opération de refroidissement \n",
    "Déplacement sur le chantier\n",
    "Attente sur le chantier pour le déchargement\n",
    "Multiples voyages pour servir le client\n",
    "Livraison à une heure donnée  ( Pas avant pas après)\n"
   ]
  },
  {
   "source": [
    "### Qu'est-ce que j'ai?\n",
    "- Des livreurs\n",
    "    - dans des camions\n",
    "    - qui transportent du beton\n",
    "    - vers des chantiers\n",
    "#### Je connais:\n",
    "- Les horaires des livreurs\n",
    "- Les positions des sites de chargement de dépôt\n",
    "- Les positions des chantiers de construction\n",
    "- La quantité demandée par client\n",
    "- La fenêtre de temps de livraison\n"
   ],
   "cell_type": "markdown",
   "metadata": {}
  },
  {
   "source": [
    "### Qu'est ce que je cherche ?\n",
    "    - Construire les itinéraires de chaque livreur disponible\n",
    "    - Objectif:\n",
    "        - Minimiser les temps de livraison\n",
    "        - Maximiser le \n",
    "    "
   ],
   "cell_type": "markdown",
   "metadata": {}
  }
 ]
}