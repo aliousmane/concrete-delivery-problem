{
 "metadata": {
  "language_info": {
   "codemirror_mode": {
    "name": "ipython",
    "version": 3
   },
   "file_extension": ".py",
   "mimetype": "text/x-python",
   "name": "python",
   "nbconvert_exporter": "python",
   "pygments_lexer": "ipython3",
   "version": 3
  },
  "orig_nbformat": 2
 },
 "nbformat": 4,
 "nbformat_minor": 2,
 "cells": [
  {
   "source": [
    "## Hybridization of very large neighborhood search for ready-mixed concrete delivery problems\n",
    "    - Verena Schmida, Karl F. Doerner , Richard F. Hartl , Juan-José Salazar-González (2009)"
   ],
   "cell_type": "markdown",
   "metadata": {}
  },
  {
   "source": [
    "### Review\n",
    "    - Synchronization in vehicle routing — a survey of VRPs with multiple synchronization constraints, Drexl 2012\n",
    "Schmid et al.  consider the **problem of concrete delivery** from **several plants to construction sites** by **heterogeneous vehicles**. The demand at each site exceeds the capacity of the largest vehicle, so **several deliveries are necessary to fulfil a task**. Only one vehicle at a time can deliver concrete at a site. Moreover, it is necessary that the flow of concrete at a site, once started, be almost uninterrupted. This means that **when a vehicle delivering to a site is finished, the next one should already be present**. In addition, a vehicle can only load concrete for one site at a time, so it always delivers its complete load on each visit to a site and then returns to a plant to reload. **The loading and unloading times are independent of the amount loaded or unloaded**.\n",
    "Finally, there are support vehicles needed at some sites to assist in unloading. These vehicles must be present at the site during the complete delivery process and hence must be the first ones to arrive and the last ones to leave.\n",
    "\n",
    "The authors develop an **MIP model using five types of binary and three types of continuous time variable**. **Lower and upper bounds for the number of deliveries** to a site are computed. These determine the number of variables. The most important binary variables are (i) **  $x^k_{i_1n_1i_2n_2}$ equalling one iff vehicle $k$ performs delivery $n_2$ at construction site $i_2$ directly after performing delivery $n_1$ at site $i_1$**, (ii) ** $y^k_{in}$ equalling one iff vehicle k performs delivery n at site i **, and (iii) ** $z_{in}$ equalling one iff the $nth$ delivery at site i is performed at all**. The two most important time variables are **$t^{start}_{in}$ and $t^{end}_{in}$, indicating the start and end of the $nth$ delivery to site i respectively**. Operation synchronization is ensured by constraint types stating that (i) **the time between two consecutive unloading operations assigned to a vehicle is big enough to allow the vehicle to drive to the closest plant and reload there (this ensures that no two vehicles can unload at a site at the same time and that $t^{start}_{in} − t^{end}_{in-1} \\geq 0 $ for all i and n)** and (ii) **the time between the beginning and the end of an unloading operation, that is, $t^{start}_{in} − t^{end}_{in}$, equals the unloading time of the vehicle performing the nth delivery at i**. **The requirement that the flow of concrete at a site, once started, be uninterrupted, is modelled as a soft constraint: The objective function contains a penalty term $c^{penalty}(t^{start}_{in} − t^{end}_{in-1})$  for each site i and each delivery n > 1 **. This can be called soft exact deferred operation synchronization.\n",
    "\n",
    "Load synchronization is ensured by a constraint type requiring that the sum of the capacities of the vehicles that have delivered to a site be greater than or equal to the site’s demand\n",
    "\n",
    "The authors solve the problem by variable neighbourhood search (VNS) and very large neighbourhood search (VLNS) (Ahuja et al.). **An initial solution is created by generating a delivery sequence for each task, ensuring feasibility regarding task fulfilment, considering the tasks one by one.** \n",
    "\n",
    "VNS is then performed on the resulting set of sequences. There is a shaking and an iterative improvement phase. The neighbourhoods used in the shaking phase basically replace a vehicle in a sequence by another vehicle. To evaluate the solution, a schedule for all vehicles is computed by **forward and backward termination** inspired by the critical path method used in project management. Forward termination schedules every delivery as early as possible, taking into account vehicle availability. The result serves as input for backward termination, where every delivery is scheduled as late as possible. Unfortunately, the authors do not give full details\n",
    "on this ingenious idea. \n",
    "\n",
    "In the improvement phase, three local search operators are used. The first one tries to remove unnecessary vehicles from a sequence, the second one moves vehicles within one sequence, and the third one swaps vehicles between different sequences.\n",
    "\n",
    "The basic idea of the VLNS approach is to use the MIP model where all variables are fixed according to a feasible solution obtained by VNS. In each VLNS step, some of the variables are unfixed, and the resulting MIP is solved by a commercial solver, using several additional cuts. The decision which variables to unfix is based on a hierarchical ranking of the variable types.\n",
    "The decision whether or not to execute a certain delivery, represented by the $z_{in}$ variables, is at the top level of this hierarchy. The variables determining which vehicle to use for a certain delivery, $y^k_{in}$, constitute the second level. Most variables of these two types remain fixed in the VLNS step. All other variables are unfixed.\n",
    "The authors solve a set of real-world test instances and obtain very good solutions\n",
    "\n",
    "\n",
    "\n",
    "\n"
   ],
   "cell_type": "markdown",
   "metadata": {}
  },
  {
   "cell_type": "code",
   "execution_count": null,
   "metadata": {},
   "outputs": [],
   "source": [
    "### Archetti, C., & Speranza, M. G. (2014). A survey on matheuristics for routing problems.\n",
    "\n",
    "In Schmid et al. (2010), a rich VRP for the delivery of ready-mixed concrete is studied. The authors propose a VNS and a very large neighborhood search (VLNS) where a MILP model is solved at each iteration which improves the current solution. To reduce the computational time, some variables are fixed in the MILP model. The number and the set of variables to be fixed are determined by the neighborhood definition."
   ]
  },
  {
   "source": [
    "## Model"
   ],
   "cell_type": "markdown",
   "metadata": {}
  },
  {
   "source": [
    "### Notation\n",
    "- $\\mathcal{O}$: set of orders is denoted by O \n",
    "- $\\mathcal{O}'$: subset of orders with specialized instrumentation\n",
    "- $\\mathcal{K}$ : set of trucks is denoted by K\n",
    "- $\\mathcal{K}'$ : subset of trucks with specialized instrumentation\n",
    "- $I_0$: The type of instrumentation required by an order $o \\in \\mathcal{O}'$ \n",
    "- $I^k$: The type of instrumentation required by a truck $k \\in \\mathcal{K}'$ \n",
    "- $Q_o$: Demand of customer order $o$\n",
    "- $Q^k$: Capacity of a truck\n",
    "- $p_k$: home plant of truck k\n",
    "-  $[E_o, F_o]$: Time window associated with order o\n",
    "- $T^k_{o1,o2}$: known time to go from the construction site of order $o_1$ to the construction site of order $o_2$ while also being loaded at the closest plant enroute, from which the construction site of order $o_2$ can be reached in less than 2 hours; does not depend on the amount of concrete in the truck\n",
    "- $T_{p,o}$ : known time to go from the location site of plant $p$ to the construction site of order $o$, \n",
    "- $T_{o,p}$ :  known time to go from the construction site of order $o$ to the location site of plant $p$.\n",
    "- $U^k_o$: time to unload truck $k$ at the construction site $o$, depends on the truck and the construction site, but not on the amount of unloaded concrete.\n",
    "- $\\mathcal{D}_o$: set of potential deliveries associated with each order, index of the sequence of visiting trucks of $o$.\n",
    "- |$\\mathcal{D}_o$|: upper bound of the approximate number of deliveries for an order $o$."
   ],
   "cell_type": "markdown",
   "metadata": {}
  },
  {
   "source": [
    "## Bound of number of deliveries\n",
    "### The minimum number of deliveries required \n",
    "- Assume that all unloading operations are executed by the largest truck available.\n",
    "- $LB_o =  \\lceil { \\frac{Q_o}{max \\{ Q^k\\}} } \\rceil$\n",
    "### The maximum number of deliveries required \n",
    "- Assume that all unloading operations are executed by the smallest truck available.\n",
    "- $UB_o =  \\lceil { \\frac{Q_o}{min \\{ Q^k\\}} } \\rceil$\n"
   ],
   "cell_type": "markdown",
   "metadata": {}
  },
  {
   "source": [
    "## Decision variables\n",
    "\n",
    "- $x^k_{o_1,d_1;o_2,d_2}$ is value 1 when truck $k$ serves delivery $d_2$ of order $o_2$ immediately after serving delivery $d_1$ of order $o_1$. The choice of the plant $p$ serving both orders is not left as an option to the model itself, but it is\n",
    "automatically chosen depending on these two construction sites. Between serving two orders o1 and o2 the truck visits the closest plant enroute, while still ensuring the RMC is transported for at most 2 h. Plants are incapacitated.\n",
    "-  $u^k_{o,d}$ is 1 iif the first delivery to be performed by truck $k$ along the planning horizon (day) refers to executing delivery $d$ of order $o$.\n",
    "-  $v^k_{o,d}$ refers to the very last movement of truck k per day, and it is 1 iif delivery $d$ of order $o$ is its last\n",
    "assignment before returning to its home plant\n",
    "- $y^k_{o,d}$ indicates whether a certain truck $k$ executes delivery $d$ of order $o$. \n",
    "- $z_{o,d}$ serves as an indicator whether or not a certain delivery $d$ associated with order $o$ is supposed to be executed. It is  equal to 1 if the d-th potential delivery associated with order $o$ is executed, and 0 otherwise. Recall that d ∈ Do is simply an index, so d = 1 represents the first delivery, that must be executed, and d = |Do| represents a true or dummy delivery depending if it is executed or not, respectively\n",
    "- $a_{o,d}$ ($b_{o,d}$) refers to the start (end) of the unloading operation associated with delivery $d$ of order $o$. Remember that when o ∈ $\\mathcal{O}'$, the first delivery d = 1 may only be assigned to a truck k ∈ $\\mathcal{K}'$, which will stay at the construction site (in case $Q_k$ < $Q_o$) to assist other trucks.\n",
    "    - $b_{o,d}$ coincides with the time when a truck leaves $o$ if and only if $o \\notin \\mathcal{O}'or d > 1 or Q_k \\geq Q_o$.\n",
    "    - $a_{o,d}$ coincides with the time when the truck assigned to this particular delivery starts its unloading operation at the construction site corresponding to order $o$.\n",
    "- $l_o$ captures any delayed start of the first delivery associated with order $o$. In case the first delivery starts after the end of the given time window interval $[E_o, F_o]$, $l_o$ evaluates the length of the resulting gap. In case the first delivery starts within the time window it will be equal to 0. Starting the very first delivery before $E_o$ is not permitted.\n",
    "\n",
    "\n",
    "## Objective function\n",
    "\n",
    " - Minimize the total time traveled by trucks. \n",
    " - Additionally gaps between consecutive deliveries, or starting the first delivery of any order o after $F_o$  are not desirable and need to be penalized. \n",
    " - To combine these features in a single objective function, we make use of the parameter $\\beta$ for penalizing gaps between consecutive deliveries\n",
    "\n"
   ],
   "cell_type": "markdown",
   "metadata": {}
  },
  {
   "source": [
    "## Formulation\r\n",
    "min $\\sum_{o_1,o_2 ∈ \\mathcal{O},\\\\ d_1∈ \\mathcal{D}_{o_1} \\\\ d_2 ∈ \\mathcal{D}_{o_1} \\\\ k∈ \\mathcal{K}} {T^k_{o_1,o_2} · x^k_{o_1,d_1;o_2,d_2}}$ +  $\\sum_{o ∈ \\mathcal{O},\\\\ d ∈ \\mathcal{D}_{o} \\\\ k∈ \\mathcal{K}} {T_{p_k,o} · u^k_{o,d}}$ +  $\\sum_{o ∈ \\mathcal{O},\\\\ d ∈ \\mathcal{D}_{o} \\\\ k∈ \\mathcal{K}} {T_{o,p_k} · v^k_{o,d}}$ +  $\\beta \\sum_{o ∈ \\mathcal{O}}\\left(l_o + \\sum_{d \\in \\mathcal{D}_0}(a_{o,d}- b_{o,d-1})\\right) $\r\n",
    "\r\n",
    "- Reduce symmetric solutions: the very first delivery associated with any order needs to be executed by all means:\r\n",
    "    - $z_{o,1}= 1$\r\n",
    "- Only consecutive deliveries may need to be executed\r\n",
    "    - $z_{o,d} \\leq z_{o,d−1}$  $∀o ∈ \\mathcal{O}, d ∈ \\mathcal{D}_o : d>1$.\r\n",
    "- When delivery $d$ of order $o$ is decided to be executed, a truck k must be assigned to it:\r\n",
    "    - $ \\sum_{k∈\\mathcal{K}}y^k_{o,d} = z_{o,d} $ $∀o ∈ \\mathcal{O}, d ∈ \\mathcal{D}_o : o \\notin \\mathcal{O}'$ or $ d>1$\r\n",
    "    - $ \\sum_{k∈\\mathcal{K}':I^k=I_o}y^k_{o,1} = 1 $ $∀o ∈ \\mathcal{O}'$\r\n",
    "- If truck $k$ is assigned to the execution of delivery $d$ associated with order $o$, the truck needs to go to the construction site of $o$:\r\n",
    "    - $y^k_{o,d} = u^k_{o,d} + \\sum_{ o_1 in \\mathcal{O} \\backslash \\{o\\} \\\\ d_1 \\in \\mathcal{D}_o } {x^k_{o_1,d_1;o,d}} + \\sum_{d_1 \\in \\mathcal{O}_o: d_1 < d }{x^k_{o,d_1;o,d}} $ $\\forall o \\in \\mathcal{O}, d \\in \\mathcal{D}_o, k \\in \\mathcal{K} $\r\n",
    "- After executing a delivery, a truck must go somewhere else\r\n",
    "    - $y^k_{o,d} = v^k_{o,d} + \\sum_{ o_2 \\in \\mathcal{O} \\backslash \\{o\\} \\\\ d_2 \\in \\mathcal{D}_o } {x^k_{o,d;o_2,d_2}} + \\sum_{d_2 \\in \\mathcal{O}_o: d_2 > d }{x^k_{o,d;o,d_2}} $ $\\forall o \\in \\mathcal{O}, d \\in \\mathcal{D}_o, k \\in \\mathcal{K} $\r\n",
    "-  A truck is allowed to leave its home plant (and execute its very first unloading operation per day) at most once:\r\n",
    "    - $ \\sum_{ o \\in \\mathcal{O} \\\\ d \\in \\mathcal{D} }{u^k_{o,d} \\leq 1} $ $ k \\in \\mathcal{K} $\r\n",
    "- In case a truck leaves its home plant it also needs to return there by the end of the day:\r\n",
    "    - $ \\sum_{ o \\in \\mathcal{O} \\\\ d \\in \\mathcal{D} } {u^k_{o,d}} = \\sum_{ o \\in \\mathcal{O} \\\\ d \\in \\mathcal{D} }{v^k_{o,d}} $ $ k \\in \\mathcal{K} $\r\n",
    "- The time difference between two consecutive unloading operations assigned to the same truck needs to be big enough to allow the truck driving to the closest plant and being loaded there.\r\n",
    "    - $  a_{o_2,d_2} \\geq b_{o_1,d_1} + T^k_{o_1,o_2}.x^k_{o_1,d_1;o_2;d_2} - M(1- x^k_{o_1,d_1;o_2,d_2}) $ $ \\forall o_1, o_2 \\in \\mathcal{O}, o_1 \\neq o_2, d_1 \\in \\mathcal{D}_{o_1}, d_2 \\in \\mathcal{D}_{o_2}, k \\in \\mathcal{K}: o_1 \\notin \\mathcal{O}'$ or $d1 > 1$ or $Q^k \\geq Q_{o_1}   $\r\n",
    "    - $  a_{o_2,d_2} \\geq b_{o_1,|\\mathcal{D}_{o_1}|} + T^k_{o_1,o_2}.x^k_{o_1,1;o_2;d_2} - M(1- x^k_{o_1,1;o_2,d_2}) $ $ \\forall o_1 \\in \\mathcal{O}',o_2 \\in \\mathcal{O} \\backslash \\{o_1\\}, d_2 \\in \\mathcal{D}_{o_2}, k \\in \\mathcal{K}': Q^k < Q_{o_1}, I^k = I_{o_1} $\r\n",
    "    - M is defined as the difference between the latest possible time when truck k could leave the construction site associated with order $o_1$ after having executed delivery $d_1$ and the earliest possible start of delivery $d_2$ for order $o_2$.\r\n",
    "    - For two identical orders:\r\n",
    "        -  $  a_{o,d_2} \\geq b_{o,d_1} + T^k_{o,o}.x^k_{o,d_1;o;d_2} $ $ \\forall o_1, o_2 \\in \\mathcal{O}, d_1, d_2 \\in \\mathcal{D}_{o_1}, d_1 < d_2 $  \r\n",
    "    -  Two trucks cannot be unloaded at the same time in a construction site:\r\n",
    "        - $a_{o,d } \\geq b_{o,d−1}$ $ ∀o ∈ \\mathcal{O}, d ∈ \\mathcal{D}_o : d>1$\r\n",
    "    - The first delivery of any order has to start after the begin of the given time window:\r\n",
    "        - $a_{o,1} \\geq E_o$ $ ∀o ∈ \\mathcal{O}$\r\n",
    "    - A late start of the first delivery of order $o$ needs to be penalized in the objective function accordingly. The first delivery of any order is considered as starting late in case the unloading operation is initiated after the end of the corresponding time window:\r\n",
    "        - $l_o \\geq a_{o,1} - F_o $\r\n",
    "    - To ensure that the required demand is totally delivered, the cumu\u0002lative capacity of all trucks serving an order may not be smaller than such demand:\r\n",
    "        - $ \\sum_{d \\in \\mathcal{D}_o \\\\ k \\in \\mathcal{K} }{Q^ky^k_{o,d}} \\geq Q_o  $\r\n",
    "    - The time to execute any delivery is determined as a constant dependent on the truck and the construction site:\r\n",
    "        - $b_{o,d} − a_{o,d}  \\geq U^k_o · y^k_{o,d}$ $∀o ∈ O, d ∈ \\mathcal{D}_o, k ∈ \\mathcal{K}$\r\n",
    "        - $b_{o,d} − a_{o,d} \\leq U^k_o + M'((1 − y^k_{o,d})$ $∀o ∈ O, d ∈ \\mathcal{D}_o , k ∈ \\mathcal{K}$, $M' = max\\{U^k_o : k ∈ K\\}− U^k_o$.\r\n",
    "\r\n"
   ],
   "cell_type": "markdown",
   "metadata": {}
  },
  {
   "cell_type": "code",
   "execution_count": null,
   "metadata": {},
   "outputs": [],
   "source": []
  },
  {
   "source": [
    "\n",
    "\n",
    "- The requirement is called order, and it is known the day before the delivery.\n",
    "- Orders are not supposed to be postponable to one of the following days, but need to be executed. \n",
    "- A demand per order may exceeds the capacity of any single truck available.\n",
    "- Several deliveries may be scheduled in a row in order to completely satisfy the order of a single customer.\n",
    "- Even if the capacity of a truck would permit serving several orders, trucks may only serve one order between visiting two plants. Hence, small orders imply that trucks will only be partially loaded. \n",
    "-  All single deliveries should take place just in time. As soon as one truck has finished its unloading operation, preferably the next truck should already be available and ready to start its unloading operation. Gaps between consecutive unloading operations constitute a trouble for the constructor, therefore they should be avoided to the best extent possible. Unloading operations are supposed to be non-overlapping, hence only one truck can unload at a time. \n",
    "- Due to space limitations at construction sites, trucks are supposed to leave the construction site immediately after having finished their unloading operations. Trucks can only spent idle time at plants if necessary. \n",
    "- The time necessary in order to unload a truck is implicitly given by the construction sites unloading rate.\n",
    "\n",
    "- A time window is assigned to every order and the requested deliveries have to be executed using the fleet of vehicles\n",
    "available. During the given time window the first truck should arrive at the construction site and start its unloading operation.\n",
    "- The time window however does not relate to any other deliveries other than the first one. \n",
    "- An early start of the first delivery before the start of the time window is not allowed. In order to guide the solution process\n",
    "towards acceptable solutions, a late start (i.e., after the end of the time window) will be penalized accordingly.\n",
    "- Every plant has its predefined loading rate at which concrete can be poured into the trucks. \n",
    "- The time necessary to load a truck is implicitly given by the plant loading rate and the truck capacity.\n",
    "- Setup time between loading operations of two trucks at the same plant is neglected.\n",
    "- Plants are considered incapacitated.\n",
    "- Trucks start their daily tour at their home plant. By the end of the day every truck needs to return to its home plant where it started its daily tour from.\n",
    "- Trucks do not have to be in use every single day \n",
    "- A truck may also be loaded at plants other than its home plant.\n",
    "- A truck must not serve two customers  with the same load of concrete.\n",
    "- Only full truck loads are considered for the delivery of concrete.\n",
    "\n",
    "- The fleet of trucks is heterogeneous (different capacities or instrumentation) \n",
    "- Every truck is based at a particular plant called its home plant.\n",
    "- A truck (with loading space) can be used for the delivery of concrete only, even if they have specialized instrumentation.\n",
    "- Trucks with specialized instrumentation might only assist during unloading operations, providing a pump or a conveyor belt.\n",
    "- There also exist hybrid vehicles which are used for delivery of concrete and providing the required equipment during unloading\n",
    "operations. Note that the problem itself cannot be decomposed into the scheduling of trucks transporting concrete only, and the scheduling of trucks equipped with unloading instrumentation. This is due to the fact that some trucks can also be employed for executing both types of tasks.\n",
    "-  If specialized instrumentation is required for unloading operations, they are disclosed at the same time that the order is placed. In these cases the first truck to arrive at the corresponding construction site needs to be equipped accordingly. These trucks first unload their own load of concrete when they have loading space. Afterwards they need to stay at the construction site to assist later arriving trucks in performing their unloading operations. They are allowed to leave the construction site when the total demand\n",
    "of the order has been fully satisfied and the last truck scheduled for a delivery has finished its unloading operation.\n",
    "- It is not possible to replace the truck assisting other trucks with their unloading operation. Any displacement would be impractical, as it would take too much time, and hence disturb the unloading process.\n",
    "\n",
    "- ** Solution approch**\n",
    "    - MILP- B&C\n",
    "    - VNS\n",
    "    - VLNS\n",
    "    - Hybridization of above methods"
   ],
   "cell_type": "markdown",
   "metadata": {}
  }
 ]
}