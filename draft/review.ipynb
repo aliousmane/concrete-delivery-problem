{
 "metadata": {
  "language_info": {
   "codemirror_mode": {
    "name": "ipython",
    "version": 3
   },
   "file_extension": ".py",
   "mimetype": "text/x-python",
   "name": "python",
   "nbconvert_exporter": "python",
   "pygments_lexer": "ipython3",
   "version": 3
  },
  "orig_nbformat": 2
 },
 "nbformat": 4,
 "nbformat_minor": 2,
 "cells": [
  {
   "cell_type": "markdown",
   "source": [
    "## Ready Mixed Concrete Dispatching Problem"
   ],
   "metadata": {}
  },
  {
   "cell_type": "markdown",
   "source": [
    "### A more realistic approach towards concrete delivery dispatching problem: using real distance instead spatial distance\n",
    "    - Júlia Muniz de Miranda Sáa  and Mojtaba Maghrebib\n",
    "- Propose mathematical formulation for RMCDP (Ready Mixed Concrete Dispatching Problem)\n",
    "- ILP and MILP\n",
    "\n",
    "In this paper, we propose a more realistic method for calculating travel times based on real travel distances obtained from Google Maps API. The accurate travel time information is used as input for the RMCDP, to provide results that  are more convincing. This paper compares  RMCDP with two different objective functions; (i) spatial distance and (ii) real distance. This research will clarify the influence that the quality of this information has on the decision-making process and whether it is relevant to regard the accurate travel time to achieve a more realistic result\n"
   ],
   "metadata": {}
  },
  {
   "cell_type": "markdown",
   "source": [
    "### Large-Scale Ready Mixed Concrete Delivery Dispatching Problems\n",
    "    - Maghrebi, M., Periaraj, V., Waller, S. T., & Sammut, C. (2016).\n",
    "- The objective:  find the minimum cost routes for a fleet of capacitated vehicles serving concrete to customers with known demand from depots within the allowable time window.\n",
    "- Solved with column generation\n",
    "- Under the mild assumption of homogeneity of the vehicles, the pricing sub-problem can be viewed\n",
    "as a minimum-cost multi-commodity flow problem and solved in polynomial time using efficient network simplex method implementations\n",
    "\n",
    "- deliver a specified amount of concrete to customers from depots using capacitated trucks\n",
    "- a penalty is incurred for not delivering concrete to a customer.\n",
    "- ensure that at most one of the customers is served by the trucks from at most one of the depots.\n",
    "- there could be different travel times between the start and depot locations and between customer and\n",
    "finish locations\n",
    "- the time window constraints are a function of the location rather than the vehicles,\n",
    "with each vehicle incurring the same service times at a given location.\n",
    "- all the vehicles can fulfill the demand at a customer location, the fleet of vehicles can\n",
    "be considered homogenous.\n",
    "-  a single truck could also serve multiple customers from multiple depots"
   ],
   "metadata": {}
  },
  {
   "cell_type": "markdown",
   "source": [
    "### Column Generation-Based Approach for Solving Large-Scale Ready Mixed Concrete Delivery Dispatching Problems\n",
    "    - Maghrebi, Periaraj, Waller & Sammut (2015)"
   ],
   "metadata": {}
  },
  {
   "cell_type": "markdown",
   "source": [
    "A Hybrid Solution Approach for Ready-Mixed Concrete Delivery\n",
    "\n",
    "    - Verena Schmid, Karl F. Doerner, Richard F. Hartl, Martin W. P. Savelsbergh, Wolfgang Stoecher, (2009)\n",
    "\n",
    "- Concrete produced at **several plants** has to be delivered at customers’ construction sites using a **heterogeneous fleet of vehicles** in a timely, but cost-effective manner. As the ordered **quantity of concrete typically exceeds the capacity of a single vehicle** **several deliveries need to be scheduled in order to fulfill an order**. The **deliveries cannot overlap** and the **time between consecutive deliveries has to be small**\n",
    "    - Because of the different vehicle capacities, the number of deliveries required to fulfill an order cannot be determined in advance.\n",
    "    - Some vehicles has specialized unloading equipment and need to arrive first at the construction site so as to assist other vehicles arriving later with their unloading operations.\n",
    "- **Objective**: fulfill all orders, minimize the travel cost, and  avoid delays between two consecutive unloading operations for an order.\n",
    "- **Solution approach**: integration of  optimization and heuristic techniques. Information is passed back and forth between an **integer multicommodity flow optimization component** and a **variable neighborhood search component**.\n",
    "    - Integer Multicommodity Flow Component\n",
    "        - Time-space network which nodes represent the construction sites at which concrete needs to be delivered at discrete points in time with a time discretization of 5 minutes.\n",
    "        - A commodity is a vehicle class ( set of  vehicles with the same capacity, the same home plant, and the same instrumentation)\n",
    "\n"
   ],
   "metadata": {}
  },
  {
   "cell_type": "code",
   "execution_count": null,
   "source": [],
   "outputs": [],
   "metadata": {}
  },
  {
   "cell_type": "markdown",
   "source": [
    "### Hybridization of very large neighborhood search for ready-mixed concrete delivery problems\n",
    "    - Verena Schmida, Karl F. Doerner , Richard F. Hartl , Juan-José Salazar-González (2009)\n",
    "\n",
    "- The requirement is called order, and it is known the day before the delivery.\n",
    "- Orders are not supposed to be postponable to one of the following days, but need to be executed. \n",
    "- A demand per order may exceeds the capacity of any single truck available.\n",
    "- Several deliveries may be scheduled in a row in order to completely satisfy the order of a single customer.\n",
    "- Even if the capacity of a truck would permit serving several orders, trucks may only serve one order between visiting two plants. Hence, small orders imply that trucks will only be partially loaded. \n",
    "-  All single deliveries should take place just in time. As soon as one truck has finished its unloading operation, preferably the next truck should already be available and ready to start its unloading operation. Gaps between consecutive unloading operations constitute a trouble for the constructor, therefore they should be avoided to the best extent possible. Unloading operations are supposed to be non-overlapping, hence only one truck can unload at a time. \n",
    "- Due to space limitations at construction sites, trucks are supposed to leave the construction site immediately after having finished their unloading operations. Trucks can only spent idle time at plants if necessary. \n",
    "- The time necessary in order to unload a truck is implicitly given by the construction sites unloading rate.\n",
    "\n",
    "- A time window is assigned to every order and the requested deliveries have to be executed using the fleet of vehicles\n",
    "available. During the given time window the first truck should arrive at the construction site and start its unloading operation.\n",
    "- The time window however does not relate to any other deliveries other than the first one. \n",
    "- An early start of the first delivery before the start of the time window is not allowed. In order to guide the solution process\n",
    "towards acceptable solutions, a late start (i.e., after the end of the time window) will be penalized accordingly.\n",
    "- Every plant has its predefined loading rate at which concrete can be poured into the trucks. \n",
    "- The time necessary to load a truck is implicitly given by the plant loading rate and the truck capacity.\n",
    "- Setup time between loading operations of two trucks at the same plant is neglected.\n",
    "- Plants are considered incapacitated.\n",
    "- Trucks start their daily tour at their home plant. By the end of the day every truck needs to return to its home plant where it started its daily tour from.\n",
    "- Trucks do not have to be in use every single day \n",
    "- A truck may also be loaded at plants other than its home plant.\n",
    "- A truck must not serve two customers  with the same load of concrete.\n",
    "- Only full truck loads are considered for the delivery of concrete.\n",
    "\n",
    "- The fleet of trucks is heterogeneous (different capacities or instrumentation) \n",
    "- Every truck is based at a particular plant called its home plant.\n",
    "- A truck (with loading space) can be used for the delivery of concrete only, even if they have specialized instrumentation.\n",
    "- Trucks with specialized instrumentation might only assist during unloading operations, providing a pump or a conveyor belt.\n",
    "- There also exist hybrid vehicles which are used for delivery of concrete and providing the required equipment during unloading\n",
    "operations. Note that the problem itself cannot be decomposed into the scheduling of trucks transporting concrete only, and the scheduling of trucks equipped with unloading instrumentation. This is due to the fact that some trucks can also be employed for executing both types of tasks.\n",
    "-  If specialized instrumentation is required for unloading operations, they are disclosed at the same time that the order is placed. In these cases the first truck to arrive at the corresponding construction site needs to be equipped accordingly. These trucks first unload their own load of concrete when they have loading space. Afterwards they need to stay at the construction site to assist later arriving trucks in performing their unloading operations. They are allowed to leave the construction site when the total demand\n",
    "of the order has been fully satisfied and the last truck scheduled for a delivery has finished its unloading operation.\n",
    "- It is not possible to replace the truck assisting other trucks with their unloading operation. Any displacement would be impractical, as it would take too much time, and hence disturb the unloading process.\n",
    "\n",
    "- ** Solution approch**\n",
    "    - MILP- B&C\n",
    "    - VNS\n",
    "    - VLNS\n",
    "    - Hybridization of above methods"
   ],
   "metadata": {}
  },
  {
   "cell_type": "markdown",
   "source": [
    "### Dispatching policy evaluation for transport of ready mixed concrete\n",
    "    - Michal Weiszer, Gabriel Fedorko, Vieroslav Molnár, Zuzana Tučková and Miloš Poliak\n",
    "#### Use of event-discrete simulation"
   ],
   "metadata": {}
  },
  {
   "cell_type": "markdown",
   "source": [
    "### Genetic algorithms for supply-chain scheduling: A case study in the distribution of ready-mixed concrete\n",
    "\n",
    "    - David Naso , Michele Surico  , Biagio Turchiano , Uzay Kaymak (2006)\n",
    "- **Constraints**\n",
    "\n",
    "    - Each PC is equipped with a single loading dock, where the produced cement is loaded on the trucks for its delivery\n",
    "    - Each loading dock can service only one truck at a time\n",
    "    - Each order or fraction of an order is produced at the time the truck assigned to it is available at the loading dock for loading the material\n",
    "    - The total loading time for a truck consists of a fixed part (independent of the loading rate) and a flexible part that depends on the required volume and the loading rate of the loading dock.\n",
    "    - Moreover, there is no significant setup time depending on the type of concrete mixed in two successive load operations.\n",
    "    - An order consists minimally of a delivery moment (date and time), type of concrete, required amount and delivery location\n",
    "    -  a customer may require explicitly that an order is produced by a specific PC or that it must not be supplied by some of the PCs of the chain\n",
    "    - Several  attributes of customer’s resources at the unloading site must also be taken into account. Namely, each customer can unload at a given maximum rate, and may specify a maximum amount of product per single delivery.\n",
    "    - Moreover, the customer may require a truck to arrive in advance with respect to the requested delivery time for some logistic reasons at the construction site. In other words, the customer may require that the truck waits a predefined time interval at the unloading site prior to unloading.\n",
    "    - Some orders do not need a delivery, as the customer picks up the concrete himself.\n",
    "    - delivering trucks have a limited capacity, and a maximum unloading rate.\n",
    "    - Some specific types of concrete require that a certain fraction of the truck’s capacity is left empty, thus reducing the actual capacity of the truck for that type of cement. \n",
    "    - Trucks are parked in specific base locations at the PCs from which they start every morning, and to which they must return every evening.\n",
    "    - A vehicle can be used for a predefined day shift, so any delay or additional job must be paid additionally. \n",
    "    - Each truck can service only one order at a time.\n",
    "     It is not possible to service multiple small orders\n",
    "     - Only one truck at a time can be unloaded at the delivery location (if two trucks have arrived at the location, one must wait until the other one is unloaded).\n",
    "     - It is possible to hire a number of additional vehicles from external companies.\n",
    "     \n",
    "- ** Objective**: Minimize\n",
    "    -  transportation costs:  sum of all the distances from PCs to customer sites + distance of return trip to the PC for the next job + cost of reaching the PC supplying the first job of the truck (if it differs from the base location) + the cost of returning to the base-location at the end of the working day\n",
    "- **Solution**\n",
    "    - Use of GA and constructive heuristic\n",
    "    \n"
   ],
   "metadata": {}
  },
  {
   "cell_type": "markdown",
   "source": [
    "### Matching experts' decisions in concrete delivery dispatching centers by ensemble learning algorithms: Tactical level\n",
    "    - Mojtaba Maghrebi , Travis Waller , Claude Sammut\n",
    "**Use of Machine learning**"
   ],
   "metadata": {}
  },
  {
   "cell_type": "markdown",
   "source": [
    "### Optimization of ready mixed concrete delivery for commercial batching plants of Ahmedabad, India\n",
    "    - Debasis Sarkar , Jishnu Gohel and Keval Dabasi\n",
    "####optimize the RMC delivery sequence of truck-mixers for a commercial RMC plant\n",
    "\n",
    "    "
   ],
   "metadata": {}
  },
  {
   "cell_type": "markdown",
   "source": [
    "| Author | Description |\n",
    "|---|---|\n",
    "| Feng and Wu 2000 | Addressed the prospective problems which an RMC transit-mixer faces during the delivery of concrete to construction sites. Then they proposed a systematic model for the dispatching sequence scheduling of the RMC transit-mixers using GA.|\n",
    "|---|---|\n",
    "Wang and Anson 2000 | The authors compared the productivity outputs of Hong-Kong and Beijing. With an average of 24 transit-mixers                          stationed at the batching plant, the productivity of the batching plants in Hong-Kong was much higher than the plants in Beijing.|\n",
    "|---|---|\n",
    "|Ochieng and Sauer 2002 | Used global positioning system (GPS) to support the navigation of urban road transport |\n",
    "|---|---|\n",
    "|Lu and Lam 2005 | Used combined GA and simulation techniques to develop solutions for dispatching sequence problems for delivering RMC from commercial batching plants. Their observations were that, alternative optimization tools like BCO, artificial bee colony optimization (ABC) and PSO may outperform GA|\n",
    "|---|---|\n",
    "|Yan et al. 2008 | Developed a network model flow for RMC transit-mixers based on the time-space network technique. They used IBM CPLEX software to optimize the delivery process. Further, considering the constraints and obstructions that may come up during the delivery of RMC to the respective construction sites|\n",
    "|---|---|\n",
    "|Srichandum and Rujirayanyong 2010 | Developed an optimization model for scheduling the dispatching sequence of RMC using bee colony optimization (BCO). It was observed that BCO had the capability of producing effective and adaptable solutions for scheduling the delivery of RMC transit-mixers |\n",
    "|---|---|\n",
    "|Matheekrieangkrai and Wongthatsanekorn 2015 | Highlighted that the RMC market is very competitive. Each RMC manufacturer competes with other manufacturers pri\u0002marily for customer satisfaction. A customer generally looks for an RMC vendor who is committed to supplying the concrete on time. Authors proposed a dispatching sequence scheduling model through the application of the bee algorithm (BA). Their problem formulation was for a single plant supplying RMC to multiple sites. The simulation results showed that BA appears to be more effective than the GA approach in obtaining lower waiting durations.|\n",
    "|---|---|\n",
    "|Pareek et al. 2016 | Applied Bayesian updating technique. This technique can dynamically respond to the change in statistical properties of the operational data, thus enhancing the predictability of the simulation model|\n",
    "|---|---|\n",
    "|Liu et al. 2017 | Made an attempt to integrate the RMC production scheduling and RMC transit–mixer dispatching by developing a heuristic algorithm which has the capability of providing solutions to the RMC plant authorities for various practical scenarios.|\n",
    "|Aziz 2018a | Statistical model for predicting and improving RMC batch plants performance ratio under different influences using SPSS software |\n",
    "|---|---|\n",
    "|Aziz 2018b | Statistical model for evaluating performance influencing factors for RMC under different effects using SPSS software |\n",
    "|Khalek et al. 2018 | Ranking of the major factors influencing the production of RMC through Analytic Hierarchy Process (AHP) |\n",
    "\n",
    "\n"
   ],
   "metadata": {}
  },
  {
   "cell_type": "markdown",
   "source": [
    "### Optimizing the schedule of dispatching RMC trucks through genetic algorithms\n",
    "    - Chung-Wei Feng, Tao-Ming Cheng , Hsien-Tang Wu\n",
    "- Solution:\n",
    "    - GA\n",
    "    - Simulation\n",
    "-   Development of a software to help the manager"
   ],
   "metadata": {}
  },
  {
   "cell_type": "markdown",
   "source": [
    "### The concrete delivery problem\n",
    "    J. Kinable , T. Wauters, G. Vanden Berghe\n",
    "- Constraints:\n",
    "    - Concrete is produced at several homogeneous production sites located some distance away from the customers. \n",
    "    - Trucks start at a central depot, to travel to a production plant, unload their cargo at one of the construction sites.\n",
    "- Objective:  maximize the number of satisfied customers, weighted by their demand\n",
    "- Instance:\n",
    "    - To facilitate a future comparison of CDP implementations, large number of problem instances are published.\n",
    "- Solution:\n",
    "    - Integer Programming models\n",
    "        - first ILP: combination of CVRPTW with Split Deliveries, and the Parallel Machine Scheduling Problem (PMSP) with Time Windows and Maximum Time Lags\n",
    "            - A truck can only be used once for every customer, and whenever it is used, its delivery must be succeeded by another delivery\n",
    "        - second ILP: allows a single vehicle to visit customers more than once by representing each customer by a of customer nodes\n",
    "        - Constraint programming model.\n",
    "    - Heuristic\n",
    "        - Steepest Descent and best fit\n",
    "        - Fix-and-optimize heuristic\n"
   ],
   "metadata": {}
  },
  {
   "cell_type": "code",
   "execution_count": null,
   "source": [
    "- A wide variant of RMC formulation was introduced by Yan and his colleagues; such as when the overtime is con\u0002sidered (Yan and Lai, 2007), or covering the incidents (Yan et al., 2012) and also associating stochastic travel times (Yan et al., 2012). \n",
    "- Lin et al. (2010) presented a new model by focusing on minimizing the waiting time when there is uncertainty in demand\n",
    "- They assumed RMC dispatching as a job shop problem when the construction site represents a job and trucks correspond with a workstation. This model can be used for a single depot with a heterogeneous fleet."
   ],
   "outputs": [],
   "metadata": {}
  }
 ]
}