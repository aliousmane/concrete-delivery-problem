{
 "cells": [
  {
   "cell_type": "code",
   "execution_count": 1,
   "id": "eb98838b",
   "metadata": {},
   "outputs": [],
   "source": [
    "import cplex"
   ]
  },
  {
   "cell_type": "code",
   "execution_count": 2,
   "id": "a1499c12",
   "metadata": {},
   "outputs": [],
   "source": [
    "\n",
    "# Create a new modeler object\n",
    "modeler = cplex.Cplex()"
   ]
  },
  {
   "cell_type": "code",
   "execution_count": 3,
   "id": "7d562122",
   "metadata": {},
   "outputs": [],
   "source": [
    "filename=\"concrete.lp\""
   ]
  },
  {
   "cell_type": "code",
   "execution_count": null,
   "id": "f57702e2",
   "metadata": {},
   "outputs": [],
   "source": [
    "\n",
    "# Read the .lp file\n",
    "modeler.read(f\"{filename}\")\n",
    "\n",
    "# Extract the model from the modeler\n",
    "model = modeler.get_model()"
   ]
  },
  {
   "cell_type": "code",
   "execution_count": null,
   "id": "90ad96c6",
   "metadata": {},
   "outputs": [],
   "source": [
    "\n",
    "# Set up the conflict refiner\n",
    "conflict = model.conflict()\n",
    "conflict.set_level(2)  # Set the level of detail to 2\n",
    "\n",
    "# Solve the model\n",
    "model.solve()\n",
    "\n",
    "# Check if the model is infeasible\n",
    "if model.solution.is_infeasible():\n",
    "  # Identify the minimal conflicting set of constraints or variables\n",
    "  minimal_conflict = conflict.refine()\n",
    "  print(\"Minimal conflicting set:\", minimal_conflict)\n"
   ]
  }
 ],
 "metadata": {
  "kernelspec": {
   "display_name": "Python 3",
   "language": "python",
   "name": "python3"
  },
  "language_info": {
   "codemirror_mode": {
    "name": "ipython",
    "version": 3
   },
   "file_extension": ".py",
   "mimetype": "text/x-python",
   "name": "python",
   "nbconvert_exporter": "python",
   "pygments_lexer": "ipython3",
   "version": "3.6.9"
  }
 },
 "nbformat": 4,
 "nbformat_minor": 5
}
