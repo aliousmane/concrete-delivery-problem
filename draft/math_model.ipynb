{
 "cells": [
  {
   "cell_type": "markdown",
   "metadata": {},
   "source": [
    "## Concrete scheduling"
   ]
  },
  {
   "cell_type": "code",
   "execution_count": 1,
   "metadata": {},
   "outputs": [],
   "source": [
    "import docplex.mp \n",
    "import sys\n",
    "import cplex\n",
    "import numpy as np\n",
    "import pandas as pd\n",
    "import os\n",
    "import math"
   ]
  },
  {
   "cell_type": "code",
   "execution_count": 5392,
   "metadata": {},
   "outputs": [
    {
     "name": "stdout",
     "output_type": "stream",
     "text": [
      "* system is: Linux 64bit\n",
      "* Python version 3.6.9, located at: /usr/bin/python3\n",
      "* docplex is present, version is (2, 11, 176)\n",
      "* CPLEX library is present, version is 12.10.0.0, located at: /home/alious/.local/lib/python3.6/site-packages\n",
      "* pandas is present, version is 1.1.5\n"
     ]
    }
   ],
   "source": [
    "from docplex.mp.environment import Environment\n",
    "env = Environment()\n",
    "env.print_information()"
   ]
  },
  {
   "cell_type": "code",
   "execution_count": 5393,
   "metadata": {},
   "outputs": [],
   "source": [
    "from docplex.mp.model import Model"
   ]
  },
  {
   "cell_type": "markdown",
   "metadata": {},
   "source": [
    "Paramètes"
   ]
  },
  {
   "cell_type": "code",
   "execution_count": null,
   "metadata": {},
   "outputs": [],
   "source": []
  },
  {
   "cell_type": "code",
   "execution_count": 5394,
   "metadata": {},
   "outputs": [],
   "source": [
    "# A_2_5_1 C0\n",
    "Demand = 20\n",
    "Q=[15,15]\n",
    "K=2\n",
    "a = 200\n",
    "b=250\n",
    "TL = 5\n",
    "M = 2000\n",
    "coord = [(50,50), (49,39),(34,60)]"
   ]
  },
  {
   "cell_type": "code",
   "execution_count": 5395,
   "metadata": {},
   "outputs": [],
   "source": [
    "# A_2_5_1 C1\n",
    "Demand = 20\n",
    "Q=[15,15]\n",
    "K=2\n",
    "a = 280\t\n",
    "b= 310\n",
    "TL = 5\n",
    "M = 2000\n",
    "coord = [(50,50), (49,39),(55,40)]"
   ]
  },
  {
   "cell_type": "code",
   "execution_count": 5396,
   "metadata": {},
   "outputs": [],
   "source": [
    "# A_2_5_1 C2\n",
    "Demand = 20\n",
    "Q=[15,15]\n",
    "K=2\n",
    "a = 420\t\n",
    "b= 450\n",
    "TL = 5\n",
    "M = 2000\n",
    "coord = [(50,50), (49,39),(65,42)]"
   ]
  },
  {
   "cell_type": "code",
   "execution_count": 5397,
   "metadata": {},
   "outputs": [],
   "source": [
    "# A_2_5_1 C3\n",
    "Demand = 45\n",
    "Q=[15,15]\n",
    "K=2\n",
    "a = 280\t\n",
    "b= 380\n",
    "TL = 5\n",
    "M = 2000\n",
    "coord = [(50,50), (49,39),(55,15)]"
   ]
  },
  {
   "cell_type": "code",
   "execution_count": 5398,
   "metadata": {},
   "outputs": [],
   "source": [
    "# # A_2_5_1 C4\n",
    "# Demand = 45\n",
    "# Q=[15,15]\n",
    "# K=2\n",
    "# a = 160\n",
    "# b= 240\n",
    "# TL = 5\n",
    "# M = 2000\n",
    "# coord = [(50,50), (49,39),(54,48)]"
   ]
  },
  {
   "cell_type": "code",
   "execution_count": 5399,
   "metadata": {
    "scrolled": true
   },
   "outputs": [
    {
     "data": {
      "text/plain": [
       "[[0, 12, 5, 5, 5, 0],\n",
       " [12, 0, 11, 11, 11, 12],\n",
       " [5, 11, 0, 0, 0, 5],\n",
       " [5, 11, 0, 0, 0, 5],\n",
       " [5, 11, 0, 0, 0, 5],\n",
       " [0, 12, 5, 5, 5, 0]]"
      ]
     },
     "execution_count": 5399,
     "metadata": {},
     "output_type": "execute_result"
    }
   ],
   "source": [
    "distance"
   ]
  },
  {
   "cell_type": "code",
   "execution_count": 5400,
   "metadata": {},
   "outputs": [
    {
     "data": {
      "text/plain": [
       "[[0, 23, 23, 23, 0],\n",
       " [23, 0, 22, 22, 5],\n",
       " [23, 22, 0, 22, 5],\n",
       " [23, 22, 22, 0, 5],\n",
       " [0, 5, 5, 5, 0]]"
      ]
     },
     "execution_count": 5400,
     "metadata": {},
     "output_type": "execute_result"
    }
   ],
   "source": [
    "Cout"
   ]
  },
  {
   "cell_type": "code",
   "execution_count": 5401,
   "metadata": {},
   "outputs": [],
   "source": [
    "def Cost(i,j,distance,N):\n",
    "    if j==N-1 and i in L or i==N-1 and j in L:\n",
    "        return distance[i+1][j+1]\n",
    "    \n",
    "    if i==0 and j in L:\n",
    "        return distance[0][1] + distance[1][j+1]\n",
    "    \n",
    "    if j==0 and i in L:\n",
    "        return distance[0][1] + distance[1][i+1]\n",
    "    if i==j:\n",
    "        return 0\n",
    "    if i in L and j in L:\n",
    "        return distance[i+1][1] + distance[1][j+1] \n",
    "    \n",
    "    if i==0 and j == N-1 or j==0 and i ==N-1:\n",
    "        return 0\n",
    "    \n",
    "    return distance[i][j]\n",
    "    "
   ]
  },
  {
   "cell_type": "code",
   "execution_count": 5402,
   "metadata": {},
   "outputs": [],
   "source": [
    "\n",
    "qmin= min(Q)\n",
    "nbDel = int(math.ceil(Demand/qmin))\n",
    "L= range(1,nbDel+1)\n",
    "Less= range(1,nbDel)\n",
    "N = nbDel+2\n",
    "A= list(np.repeat(a,nbDel))\n",
    "B= list(np.repeat(b,nbDel))\n",
    "coords = []\n",
    "coords= coords + coord[:2]\n",
    "for i in range(nbDel):\n",
    "    coords.append(coord[2])\n",
    "coords.append(coord[0])\n",
    "\n",
    "distance = [[ math.ceil(math.sqrt( math.pow(c1[0]-c2[0],2) + math.pow(c1[1]-c2[1],2))) \n",
    "             for c1 in coords ] for c2 in coords]\n",
    "\n",
    "Cout = [[Cost(i,j,distance,N) for i in range(N)] for j in range(N)]\n",
    "\n",
    "S = [ list(range(1,N)) if i==0 else  [i+1]+[N-1] if i < N-2 else [N-1] if i == N-2 else [] for i in range(N)  ]\n",
    "\n",
    "P= [  [] if i ==0 else list(list(np.arange(0,i))) for i in range(N)  ]"
   ]
  },
  {
   "cell_type": "code",
   "execution_count": 5403,
   "metadata": {},
   "outputs": [
    {
     "data": {
      "text/plain": [
       "[[1, 2, 3, 4], [2, 4], [3, 4], [4], []]"
      ]
     },
     "execution_count": 5403,
     "metadata": {},
     "output_type": "execute_result"
    }
   ],
   "source": [
    "# S=[[1,4], [2,4], [3,4], [4], []]\n",
    "# P = [[], [0], [1], [2], [0,1, 2, 3]]\n",
    "S"
   ]
  },
  {
   "cell_type": "markdown",
   "metadata": {},
   "source": [
    "Decision variables"
   ]
  },
  {
   "cell_type": "code",
   "execution_count": 5404,
   "metadata": {},
   "outputs": [],
   "source": [
    "mdl = Model(\"scheduling\")\n",
    "# Xijk, nodes (i,j) with k\n",
    "x = mdl.binary_var_cube(N, N,K, lambda ij: \"x_%d_%d_%d\" %(ij[0], ij[1],ij[2]))\n",
    "y = mdl.binary_var(name='y')\n",
    "\n",
    "# x= mdl.binary_var_dict(d,name='x')\n",
    "#Ci fin de service au noeud i\n",
    "C = mdl.continuous_var_list(N,lb=0,ub=1440,name=\"C\")\n",
    "Z = mdl.continuous_var_list(N,lb=0,ub=1440,name=\"Z\")\n"
   ]
  },
  {
   "cell_type": "code",
   "execution_count": null,
   "metadata": {},
   "outputs": [],
   "source": []
  },
  {
   "cell_type": "code",
   "execution_count": 5405,
   "metadata": {},
   "outputs": [
    {
     "data": {
      "text/plain": [
       "3"
      ]
     },
     "execution_count": 5405,
     "metadata": {},
     "output_type": "execute_result"
    }
   ],
   "source": [
    "nbDel"
   ]
  },
  {
   "cell_type": "code",
   "execution_count": 5406,
   "metadata": {
    "scrolled": true
   },
   "outputs": [
    {
     "data": {
      "text/plain": [
       "[docplex.mp.LinearConstraint[](x_0_1_0+x_0_2_0+x_0_3_0+x_0_4_0,EQ,1),\n",
       " docplex.mp.LinearConstraint[](x_0_1_1+x_0_2_1+x_0_3_1+x_0_4_1,EQ,1)]"
      ]
     },
     "execution_count": 5406,
     "metadata": {},
     "output_type": "execute_result"
    }
   ],
   "source": [
    "mdl.add_constraints( mdl.sum(x[i,j,k] for j in S[i]) ==1 for i in [0] for k in range(K))"
   ]
  },
  {
   "cell_type": "code",
   "execution_count": 5407,
   "metadata": {},
   "outputs": [
    {
     "data": {
      "text/plain": [
       "[docplex.mp.LinearConstraint[](x_0_4_0+x_1_4_0+x_2_4_0+x_3_4_0,EQ,1),\n",
       " docplex.mp.LinearConstraint[](x_0_4_1+x_1_4_1+x_2_4_1+x_3_4_1,EQ,1)]"
      ]
     },
     "execution_count": 5407,
     "metadata": {},
     "output_type": "execute_result"
    }
   ],
   "source": [
    "mdl.add_constraints( mdl.sum(x[i,j,k] for i in P[j]) ==1 for j in [N-1] for k in range(K))"
   ]
  },
  {
   "cell_type": "code",
   "execution_count": 5408,
   "metadata": {},
   "outputs": [
    {
     "data": {
      "text/plain": [
       "[docplex.mp.LinearConstraint[](x_1_2_0+x_1_4_0,EQ,x_0_1_0),\n",
       " docplex.mp.LinearConstraint[](x_2_3_0+x_2_4_0,EQ,x_0_2_0+x_1_2_0),\n",
       " docplex.mp.LinearConstraint[](x_3_4_0,EQ,x_0_3_0+x_1_3_0+x_2_3_0),\n",
       " docplex.mp.LinearConstraint[](x_1_2_1+x_1_4_1,EQ,x_0_1_1),\n",
       " docplex.mp.LinearConstraint[](x_2_3_1+x_2_4_1,EQ,x_0_2_1+x_1_2_1),\n",
       " docplex.mp.LinearConstraint[](x_3_4_1,EQ,x_0_3_1+x_1_3_1+x_2_3_1)]"
      ]
     },
     "execution_count": 5408,
     "metadata": {},
     "output_type": "execute_result"
    }
   ],
   "source": [
    "mdl.add_constraints( mdl.sum(x[i,j,k] for j  in S[i] ) ==  mdl.sum(x[j,i,k] for j in P[i] ) for k in range(K) for i in L)"
   ]
  },
  {
   "cell_type": "code",
   "execution_count": 5409,
   "metadata": {},
   "outputs": [
    {
     "data": {
      "text/plain": [
       "[docplex.mp.LinearConstraint[](15x_1_2_0+15x_1_2_1+15x_1_4_0+15x_1_4_1+15x_2_3_0+15x_2_3_1+15x_2_4_0+15x_2_4_1+15x_3_4_0+15x_3_4_1,GE,45y)]"
      ]
     },
     "execution_count": 5409,
     "metadata": {},
     "output_type": "execute_result"
    }
   ],
   "source": [
    "mdl.add_constraints( [mdl.sum(Q[k]*x[i,j,k] for i in L for k in range(K) for j in S[i]   ) >= Demand*y] )"
   ]
  },
  {
   "cell_type": "code",
   "execution_count": 5410,
   "metadata": {},
   "outputs": [
    {
     "data": {
      "text/plain": [
       "[docplex.mp.LinearConstraint[](x_1_2_0+x_1_2_1+x_1_4_0+x_1_4_1,LE,1),\n",
       " docplex.mp.LinearConstraint[](x_2_3_0+x_2_3_1+x_2_4_0+x_2_4_1,LE,1),\n",
       " docplex.mp.LinearConstraint[](x_3_4_0+x_3_4_1,LE,1)]"
      ]
     },
     "execution_count": 5410,
     "metadata": {},
     "output_type": "execute_result"
    }
   ],
   "source": [
    "mdl.add_constraints( mdl.sum(x[i,j,k] for j in S[i] for k in range(K)) <= 1 for i in L )\n"
   ]
  },
  {
   "cell_type": "code",
   "execution_count": 5411,
   "metadata": {},
   "outputs": [
    {
     "data": {
      "text/plain": [
       "[docplex.mp.LinearConstraint[](x_0_1_0+x_0_1_1,LE,1),\n",
       " docplex.mp.LinearConstraint[](x_0_2_0+x_0_2_1+x_1_2_0+x_1_2_1,LE,1),\n",
       " docplex.mp.LinearConstraint[](x_0_3_0+x_0_3_1+x_1_3_0+x_1_3_1+x_2_3_0+x_2_3_1,LE,1)]"
      ]
     },
     "execution_count": 5411,
     "metadata": {},
     "output_type": "execute_result"
    }
   ],
   "source": [
    "mdl.add_constraints( mdl.sum(x[i,j,k] for i in P[j] for k in range(K)) <= 1 for j in L )"
   ]
  },
  {
   "cell_type": "code",
   "execution_count": 5412,
   "metadata": {},
   "outputs": [
    {
     "data": {
      "text/plain": [
       "[docplex.mp.LinearConstraint[](x_1_2_0+x_1_2_1+x_1_4_0+x_1_4_1,LE,x_0_1_0+x_0_1_1),\n",
       " docplex.mp.LinearConstraint[](x_2_3_0+x_2_3_1+x_2_4_0+x_2_4_1,LE,x_0_2_0+x_0_2_1+x_1_2_0+x_1_2_1),\n",
       " docplex.mp.LinearConstraint[](x_3_4_0+x_3_4_1,LE,x_0_3_0+x_0_3_1+x_1_3_0+x_1_3_1+x_2_3_0+x_2_3_1)]"
      ]
     },
     "execution_count": 5412,
     "metadata": {},
     "output_type": "execute_result"
    }
   ],
   "source": [
    " mdl.add_constraints( mdl.sum(x[i,j,k] for j in S[i] for k in range(K) ) \n",
    "                     <= mdl.sum(x[j,i,k] for j in P[i] for k in range(K) ) for i in L )"
   ]
  },
  {
   "cell_type": "code",
   "execution_count": 5428,
   "metadata": {
    "scrolled": true
   },
   "outputs": [
    {
     "data": {
      "text/plain": [
       "[docplex.mp.LinearConstraint[](2000x_1_2_0+C_1-2000,LE,C_2-65),\n",
       " docplex.mp.LinearConstraint[](2000x_1_2_1+C_1-2000,LE,C_2-65),\n",
       " docplex.mp.LinearConstraint[](2000x_1_4_0+C_1-2000,LE,C_4-51),\n",
       " docplex.mp.LinearConstraint[](2000x_1_4_1+C_1-2000,LE,C_4-51)]"
      ]
     },
     "execution_count": 5428,
     "metadata": {},
     "output_type": "execute_result"
    }
   ],
   "source": [
    "mdl.add_constraints( C[i] - M*(1-x[i,j,k]) <= C[j] - Q[k] - Cout[i][j] \n",
    "                    for i in [1] for j in S[i]  for k in range(K) )"
   ]
  },
  {
   "cell_type": "code",
   "execution_count": 5414,
   "metadata": {},
   "outputs": [],
   "source": [
    "# mdl.add_constraints( C[i] - M*(1-x[i,j,k]) <= C[j] - (Q[k] + Cout[i][j]) \n",
    "#                     for i in [1] for j in S[i] if j!= N-1 for k in range(K) )"
   ]
  },
  {
   "cell_type": "code",
   "execution_count": 5415,
   "metadata": {},
   "outputs": [
    {
     "data": {
      "text/plain": [
       "[docplex.mp.LinearConstraint[](2000x_0_1_0+C_0-2000,LE,C_1-37),\n",
       " docplex.mp.LinearConstraint[](2000x_0_1_1+C_0-2000,LE,C_1-37),\n",
       " docplex.mp.LinearConstraint[](2000x_0_2_0+C_0-2000,LE,C_2-37),\n",
       " docplex.mp.LinearConstraint[](2000x_0_2_1+C_0-2000,LE,C_2-37),\n",
       " docplex.mp.LinearConstraint[](2000x_0_3_0+C_0-2000,LE,C_3-37),\n",
       " docplex.mp.LinearConstraint[](2000x_0_3_1+C_0-2000,LE,C_3-37),\n",
       " docplex.mp.LinearConstraint[](2000x_0_4_0+C_0-2000,LE,C_4),\n",
       " docplex.mp.LinearConstraint[](2000x_0_4_1+C_0-2000,LE,C_4)]"
      ]
     },
     "execution_count": 5415,
     "metadata": {},
     "output_type": "execute_result"
    }
   ],
   "source": [
    "mdl.add_constraints( C[i] - M*(1-x[i,j,k]) <= C[j]  - Cout[i][j] for i in [0] for j in S[i] for k in range(K) )"
   ]
  },
  {
   "cell_type": "code",
   "execution_count": 5416,
   "metadata": {},
   "outputs": [
    {
     "data": {
      "text/plain": [
       "[docplex.mp.LinearConstraint[](-15x_1_2_0-15x_1_2_1-15x_1_4_0-15x_1_4_1+C_1,GE,280),\n",
       " docplex.mp.LinearConstraint[](-15x_2_3_0-15x_2_3_1-15x_2_4_0-15x_2_4_1+C_2,GE,280),\n",
       " docplex.mp.LinearConstraint[](-15x_3_4_0-15x_3_4_1+C_3,GE,280)]"
      ]
     },
     "execution_count": 5416,
     "metadata": {},
     "output_type": "execute_result"
    }
   ],
   "source": [
    "mdl.add_constraints( C[i] - mdl.sum( Q[k]*x[i,j,k] for j in S[i] for k in range(K) ) >= A[i-1] for i in L )"
   ]
  },
  {
   "cell_type": "code",
   "execution_count": 5417,
   "metadata": {},
   "outputs": [
    {
     "data": {
      "text/plain": [
       "[docplex.mp.LinearConstraint[](-15x_2_3_0-15x_2_3_1-15x_2_4_0-15x_2_4_1-C_1+C_2,LE,5),\n",
       " docplex.mp.LinearConstraint[](-15x_3_4_0-15x_3_4_1-C_2+C_3,LE,5)]"
      ]
     },
     "execution_count": 5417,
     "metadata": {},
     "output_type": "execute_result"
    }
   ],
   "source": [
    "mdl.add_constraints( C[i+1] - mdl.sum(Q[k]*x[i+1,j,k] for j in S[i+1] for k in range(K) ) -C[i] <= TL for i in Less )"
   ]
  },
  {
   "cell_type": "code",
   "execution_count": 5418,
   "metadata": {},
   "outputs": [
    {
     "data": {
      "text/plain": [
       "[docplex.mp.LinearConstraint[](C_2,GE,15x_1_2_0+15x_1_2_1+15x_1_4_0+15x_1_4_1+C_1),\n",
       " docplex.mp.LinearConstraint[](C_3,GE,15x_2_3_0+15x_2_3_1+15x_2_4_0+15x_2_4_1+C_2)]"
      ]
     },
     "execution_count": 5418,
     "metadata": {},
     "output_type": "execute_result"
    }
   ],
   "source": [
    "mdl.add_constraints( C[i+1] >= C[i] + mdl.sum(Q[k]*x[i,j,k] for j in S[i] for k in range(K) )   for i in Less )"
   ]
  },
  {
   "cell_type": "code",
   "execution_count": 5419,
   "metadata": {},
   "outputs": [
    {
     "data": {
      "text/plain": [
       "[docplex.mp.LinearConstraint[](C_1,GE,280),\n",
       " docplex.mp.LinearConstraint[](C_2,GE,280),\n",
       " docplex.mp.LinearConstraint[](C_3,GE,280)]"
      ]
     },
     "execution_count": 5419,
     "metadata": {},
     "output_type": "execute_result"
    }
   ],
   "source": [
    "mdl.add_constraints( A[i-1] <= C[i] for i in L )"
   ]
  },
  {
   "cell_type": "code",
   "execution_count": 5420,
   "metadata": {},
   "outputs": [
    {
     "data": {
      "text/plain": [
       "[docplex.mp.LinearConstraint[](C_1,LE,380),\n",
       " docplex.mp.LinearConstraint[](C_2,LE,380),\n",
       " docplex.mp.LinearConstraint[](C_3,LE,380)]"
      ]
     },
     "execution_count": 5420,
     "metadata": {},
     "output_type": "execute_result"
    }
   ],
   "source": [
    "mdl.add_constraints( B[i-1] >= C[i] for i in L )"
   ]
  },
  {
   "cell_type": "code",
   "execution_count": 5421,
   "metadata": {},
   "outputs": [
    {
     "data": {
      "text/plain": [
       "[docplex.mp.LinearConstraint[](Z_0,GE,C_1),\n",
       " docplex.mp.LinearConstraint[](Z_0,GE,C_2),\n",
       " docplex.mp.LinearConstraint[](Z_0,GE,C_3)]"
      ]
     },
     "execution_count": 5421,
     "metadata": {},
     "output_type": "execute_result"
    }
   ],
   "source": [
    "mdl.add_constraints(Z[0] >= C[i] for i in L )"
   ]
  },
  {
   "cell_type": "code",
   "execution_count": 5422,
   "metadata": {},
   "outputs": [],
   "source": [
    "# mdl.minimize(Z[0])\n",
    "mdl.maximize(y)"
   ]
  },
  {
   "cell_type": "markdown",
   "metadata": {},
   "source": [
    "COnstraints"
   ]
  },
  {
   "cell_type": "code",
   "execution_count": 5423,
   "metadata": {},
   "outputs": [
    {
     "name": "stdout",
     "output_type": "stream",
     "text": [
      "Model: scheduling\n",
      " - number of variables: 61\n",
      "   - binary=51, integer=0, continuous=10\n",
      " - number of constraints: 48\n",
      "   - linear=48\n",
      " - parameters: defaults\n",
      " - problem type is: MILP\n"
     ]
    }
   ],
   "source": [
    "mdl.print_information()"
   ]
  },
  {
   "cell_type": "code",
   "execution_count": 5424,
   "metadata": {},
   "outputs": [],
   "source": [
    "# mdl.add_constraints([x[0,2,1]==1])"
   ]
  },
  {
   "cell_type": "markdown",
   "metadata": {},
   "source": [
    "### Import the data"
   ]
  },
  {
   "cell_type": "code",
   "execution_count": 5425,
   "metadata": {},
   "outputs": [],
   "source": [
    "sol=mdl.solve()"
   ]
  },
  {
   "cell_type": "code",
   "execution_count": 5426,
   "metadata": {},
   "outputs": [
    {
     "name": "stdout",
     "output_type": "stream",
     "text": [
      "y: 1\n",
      "  x_0_1_1=1\n",
      "  x_0_2_0=1\n",
      "  x_1_4_1=1\n",
      "  x_2_3_0=1\n",
      "  x_3_4_0=1\n",
      "  y=1\n",
      "  C_1=295.000\n",
      "  C_2=310.000\n",
      "  C_3=325.000\n",
      "  C_4=1440.000\n",
      "  Z_0=1440.000\n"
     ]
    }
   ],
   "source": [
    "# print(sol.get_solver_log())\n",
    "mdl.print_solution()"
   ]
  },
  {
   "cell_type": "code",
   "execution_count": 5427,
   "metadata": {},
   "outputs": [
    {
     "name": "stdout",
     "output_type": "stream",
     "text": [
      "* model scheduling solved with objective = 1\n"
     ]
    }
   ],
   "source": [
    "mdl.report()\n"
   ]
  }
 ],
 "metadata": {
  "interpreter": {
   "hash": "28496e50707346e2dade700a5f095126be127a50be1d54b267ca850eafb7a99a"
  },
  "kernelspec": {
   "display_name": "Python 3",
   "language": "python",
   "name": "python3"
  },
  "language_info": {
   "codemirror_mode": {
    "name": "ipython",
    "version": 3
   },
   "file_extension": ".py",
   "mimetype": "text/x-python",
   "name": "python",
   "nbconvert_exporter": "python",
   "pygments_lexer": "ipython3",
   "version": "3.6.9"
  }
 },
 "nbformat": 4,
 "nbformat_minor": 2
}
